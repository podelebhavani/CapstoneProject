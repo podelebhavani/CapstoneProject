{
  "cells": [
    {
      "cell_type": "code",
      "source": [
        "# Install and verify libraries\n",
        "import sys\n",
        "import subprocess\n",
        "import os\n",
        "import importlib.metadata\n",
        "os.environ[\"CUDA_VISIBLE_DEVICES\"] = \"\"  # Disable GPU\n",
        "os.environ[\"TF_CPP_MIN_LOG_LEVEL\"] = \"3\"  # Suppress TensorFlow warnings\n",
        "\n",
        "# Install required libraries\n",
        "libraries = [\n",
        "    \"transformers==4.46.0\",\n",
        "    \"torch\",\n",
        "    \"pandas\",\n",
        "    \"polars==1.7.1\",\n",
        "    \"scipy\",\n",
        "    \"azureml-core\",\n",
        "    \"mltable==1.6.1\",\n",
        "    \"marshmallow==3.21.3\",  # Compatible with azure-ai-ml\n",
        "    \"azure-ai-ml==1.22.0\",\n",
        "    \"ipywidgets>=7.0.0\"\n",
        "]\n",
        "\n",
        "for lib in libraries:\n",
        "    try:\n",
        "        subprocess.check_call([sys.executable, \"-m\", \"pip\", \"install\", \"--no-cache-dir\", lib])\n",
        "        print(f\"Successfully installed {lib}\")\n",
        "    except subprocess.CalledProcessError as e:\n",
        "        print(f\"Error installing {lib}: {e}\")  # Fixed f-string\n",
        "        raise\n",
        "\n",
        "# Verify installations\n",
        "try:\n",
        "    import transformers\n",
        "    import torch\n",
        "    import pandas\n",
        "    import polars\n",
        "    import scipy\n",
        "    import azureml.core\n",
        "    import mltable\n",
        "    import marshmallow\n",
        "    from azure.ai.ml import MLClient\n",
        "    import ipywidgets\n",
        "    print(\"Transformers:\", transformers.__version__)\n",
        "    print(\"Polars:\", polars.__version__)\n",
        "    print(\"PyTorch:\", torch.__version__)\n",
        "    print(\"Azure ML SDK:\", azureml.core.__version__)\n",
        "    print(\"Marshmallow:\", importlib.metadata.version(\"marshmallow\"))\n",
        "    print(\"IPyWidgets:\", ipywidgets.__version__)\n",
        "    print(\"Python executable:\", sys.executable)\n",
        "except ImportError as e:\n",
        "    print(f\"Import error: {e}\")\n",
        "    raise"
      ],
      "outputs": [
        {
          "output_type": "stream",
          "name": "stdout",
          "text": "Collecting transformers==4.46.0\n  Downloading transformers-4.46.0-py3-none-any.whl.metadata (44 kB)\nRequirement already satisfied: filelock in /anaconda/envs/azureml_py38_PT_TF/lib/python3.10/site-packages (from transformers==4.46.0) (3.18.0)\nCollecting huggingface-hub<1.0,>=0.23.2 (from transformers==4.46.0)\n  Downloading huggingface_hub-0.32.4-py3-none-any.whl.metadata (14 kB)\nRequirement already satisfied: numpy>=1.17 in /anaconda/envs/azureml_py38_PT_TF/lib/python3.10/site-packages (from transformers==4.46.0) (2.1.3)\nRequirement already satisfied: packaging>=20.0 in /anaconda/envs/azureml_py38_PT_TF/lib/python3.10/site-packages (from transformers==4.46.0) (24.2)\nRequirement already satisfied: pyyaml>=5.1 in /anaconda/envs/azureml_py38_PT_TF/lib/python3.10/site-packages (from transformers==4.46.0) (6.0.2)\nCollecting regex!=2019.12.17 (from transformers==4.46.0)\n  Downloading regex-2024.11.6-cp310-cp310-manylinux_2_17_x86_64.manylinux2014_x86_64.whl.metadata (40 kB)\nRequirement already satisfied: requests in /anaconda/envs/azureml_py38_PT_TF/lib/python3.10/site-packages (from transformers==4.46.0) (2.32.3)\nCollecting safetensors>=0.4.1 (from transformers==4.46.0)\n  Downloading safetensors-0.5.3-cp38-abi3-manylinux_2_17_x86_64.manylinux2014_x86_64.whl.metadata (3.8 kB)\n\u001b[2K   \u001b[90m━━━━━━━━━━━━━━━━━━━━━━━━━━━━━━━━━━━━━━━━\u001b[0m \u001b[32m10.0/10.0 MB\u001b[0m \u001b[31m157.4 MB/s\u001b[0m eta \u001b[36m0:00:00\u001b[0m\n\u001b[?25hDownloading huggingface_hub-0.32.4-py3-none-any.whl (512 kB)\nDownloading regex-2024.11.6-cp310-cp310-manylinux_2_17_x86_64.manylinux2014_x86_64.whl (781 kB)\n\u001b[2K   \u001b[90m━━━━━━━━━━━━━━━━━━━━━━━━━━━━━━━━━━━━━━━\u001b[0m \u001b[32m781.7/781.7 kB\u001b[0m \u001b[31m267.6 MB/s\u001b[0m eta \u001b[36m0:00:00\u001b[0m\n\u001b[?25hDownloading safetensors-0.5.3-cp38-abi3-manylinux_2_17_x86_64.manylinux2014_x86_64.whl (471 kB)\nDownloading tokenizers-0.20.3-cp310-cp310-manylinux_2_17_x86_64.manylinux2014_x86_64.whl (3.0 MB)\n\u001b[2K   \u001b[90m━━━━━━━━━━━━━━━━━━━━━━━━━━━━━━━━━━━━━━━━\u001b[0m \u001b[32m3.0/3.0 MB\u001b[0m \u001b[31m212.5 MB/s\u001b[0m eta \u001b[36m0:00:00\u001b[0m\n\u001b[?25hDownloading hf_xet-1.1.3-cp37-abi3-manylinux_2_17_x86_64.manylinux2014_x86_64.whl (4.8 MB)\n\u001b[2K   \u001b[90m━━━━━━━━━━━━━━━━━━━━━━━━━━━━━━━━━━━━━━━━\u001b[0m \u001b[32m4.8/4.8 MB\u001b[0m \u001b[31m263.8 MB/s\u001b[0m eta \u001b[36m0:00:00\u001b[0m\n\u001b[?25hInstalling collected packages: safetensors, regex, hf-xet, huggingface-hub, tokenizers, transformers\nSuccessfully installed hf-xet-1.1.3 huggingface-hub-0.32.4 regex-2024.11.6 safetensors-0.5.3 tokenizers-0.20.3 transformers-4.46.0\nSuccessfully installed transformers==4.46.0\nRequirement already satisfied: torch in /anaconda/envs/azureml_py38_PT_TF/lib/python3.10/site-packages (2.6.0)\nRequirement already satisfied: filelock in /anaconda/envs/azureml_py38_PT_TF/lib/python3.10/site-packages (from torch) (3.18.0)\nRequirement already satisfied: typing-extensions>=4.10.0 in /anaconda/envs/azureml_py38_PT_TF/lib/python3.10/site-packages (from torch) (4.13.2)\nRequirement already satisfied: networkx in /anaconda/envs/azureml_py38_PT_TF/lib/python3.10/site-packages (from torch) (3.4.2)\nRequirement already satisfied: jinja2 in /anaconda/envs/azureml_py38_PT_TF/lib/python3.10/site-packages (from torch) (3.1.6)\nRequirement already satisfied: fsspec in /anaconda/envs/azureml_py38_PT_TF/lib/python3.10/site-packages (from torch) (2025.3.2)\nCollecting nvidia-cuda-nvrtc-cu12==12.4.127 (from torch)\n  Downloading nvidia_cuda_nvrtc_cu12-12.4.127-py3-none-manylinux2014_x86_64.whl.metadata (1.5 kB)\nCollecting nvidia-cuda-runtime-cu12==12.4.127 (from torch)\n  Downloading nvidia_cuda_runtime_cu12-12.4.127-py3-none-manylinux2014_x86_64.whl.metadata (1.5 kB)\nCollecting nvidia-cuda-cupti-cu12==12.4.127 (from torch)\n  Downloading nvidia_cuda_cupti_cu12-12.4.127-py3-none-manylinux2014_x86_64.whl.metadata (1.6 kB)\nCollecting nvidia-cudnn-cu12==9.1.0.70 (from torch)\n  Downloading nvidia_cudnn_cu12-9.1.0.70-py3-none-manylinux2014_x86_64.whl.metadata (1.6 kB)\nCollecting nvidia-cublas-cu12==12.4.5.8 (from torch)\n  Downloading nvidia_cublas_cu12-12.4.5.8-py3-none-manylinux2014_x86_64.whl.metadata (1.5 kB)\nCollecting nvidia-cufft-cu12==11.2.1.3 (from torch)\n  Downloading nvidia_cufft_cu12-11.2.1.3-py3-none-manylinux2014_x86_64.whl.metadata (1.5 kB)\nCollecting nvidia-curand-cu12==10.3.5.147 (from torch)\n  Downloading nvidia_curand_cu12-10.3.5.147-py3-none-manylinux2014_x86_64.whl.metadata (1.5 kB)\nCollecting nvidia-cusolver-cu12==11.6.1.9 (from torch)\n  Downloading nvidia_cusolver_cu12-11.6.1.9-py3-none-manylinux2014_x86_64.whl.metadata (1.6 kB)\nCollecting nvidia-cusparse-cu12==12.3.1.170 (from torch)\n  Downloading nvidia_cusparse_cu12-12.3.1.170-py3-none-manylinux2014_x86_64.whl.metadata (1.6 kB)\nRequirement already satisfied: nvidia-cusparselt-cu12==0.6.2 in /anaconda/envs/azureml_py38_PT_TF/lib/python3.10/site-packages (from torch) (0.6.2)\nCollecting nvidia-nccl-cu12==2.21.5 (from torch)\n  Downloading nvidia_nccl_cu12-2.21.5-py3-none-manylinux2014_x86_64.whl.metadata (1.8 kB)\nRequirement already satisfied: nvidia-nvtx-cu12==12.4.127 in /anaconda/envs/azureml_py38_PT_TF/lib/python3.10/site-packages (from torch) (12.4.127)\nCollecting nvidia-nvjitlink-cu12==12.4.127 (from torch)\n  Downloading nvidia_nvjitlink_cu12-12.4.127-py3-none-manylinux2014_x86_64.whl.metadata (1.5 kB)\nRequirement already satisfied: triton==3.2.0 in /anaconda/envs/azureml_py38_PT_TF/lib/python3.10/site-packages (from torch) (3.2.0)\nRequirement already satisfied: sympy==1.13.1 in /anaconda/envs/azureml_py38_PT_TF/lib/python3.10/site-packages (from torch) (1.13.1)\nRequirement already satisfied: mpmath<1.4,>=1.1.0 in /anaconda/envs/azureml_py38_PT_TF/lib/python3.10/site-packages (from sympy==1.13.1->torch) (1.3.0)\nRequirement already satisfied: MarkupSafe>=2.0 in /anaconda/envs/azureml_py38_PT_TF/lib/python3.10/site-packages (from jinja2->torch) (3.0.2)\nDownloading nvidia_cublas_cu12-12.4.5.8-py3-none-manylinux2014_x86_64.whl (363.4 MB)\n\u001b[2K   \u001b[90m━━━━━━━━━━━━━━━━━━━━━━━━━━━━━━━━━━━━━━━\u001b[0m \u001b[32m363.4/363.4 MB\u001b[0m \u001b[31m276.2 MB/s\u001b[0m eta \u001b[36m0:00:00\u001b[0ma \u001b[36m0:00:01\u001b[0m\n\u001b[?25hDownloading nvidia_cuda_cupti_cu12-12.4.127-py3-none-manylinux2014_x86_64.whl (13.8 MB)\n\u001b[2K   \u001b[90m━━━━━━━━━━━━━━━━━━━━━━━━━━━━━━━━━━━━━━━━\u001b[0m \u001b[32m13.8/13.8 MB\u001b[0m \u001b[31m212.1 MB/s\u001b[0m eta \u001b[36m0:00:00\u001b[0m\n\u001b[?25hDownloading nvidia_cuda_nvrtc_cu12-12.4.127-py3-none-manylinux2014_x86_64.whl (24.6 MB)\n\u001b[2K   \u001b[90m━━━━━━━━━━━━━━━━━━━━━━━━━━━━━━━━━━━━━━━━\u001b[0m \u001b[32m24.6/24.6 MB\u001b[0m \u001b[31m116.9 MB/s\u001b[0m eta \u001b[36m0:00:00\u001b[0ma \u001b[36m0:00:01\u001b[0m\n\u001b[?25hDownloading nvidia_cuda_runtime_cu12-12.4.127-py3-none-manylinux2014_x86_64.whl (883 kB)\n\u001b[2K   \u001b[90m━━━━━━━━━━━━━━━━━━━━━━━━━━━━━━━━━━━━━━━\u001b[0m \u001b[32m883.7/883.7 kB\u001b[0m \u001b[31m391.3 MB/s\u001b[0m eta \u001b[36m0:00:00\u001b[0m\n\u001b[?25hDownloading nvidia_cudnn_cu12-9.1.0.70-py3-none-manylinux2014_x86_64.whl (664.8 MB)\n\u001b[2K   \u001b[90m━━━━━━━━━━━━━━━━━━━━━━━━━━━━━━━━━━━━━━━\u001b[0m \u001b[32m664.8/664.8 MB\u001b[0m \u001b[31m247.0 MB/s\u001b[0m eta \u001b[36m0:00:00\u001b[0ma \u001b[36m0:00:01\u001b[0m\n\u001b[?25hDownloading nvidia_cufft_cu12-11.2.1.3-py3-none-manylinux2014_x86_64.whl (211.5 MB)\n\u001b[2K   \u001b[90m━━━━━━━━━━━━━━━━━━━━━━━━━━━━━━━━━━━━━━━\u001b[0m \u001b[32m211.5/211.5 MB\u001b[0m \u001b[31m207.6 MB/s\u001b[0m eta \u001b[36m0:00:00\u001b[0m00:01\u001b[0m00:01\u001b[0m\n\u001b[?25hDownloading nvidia_curand_cu12-10.3.5.147-py3-none-manylinux2014_x86_64.whl (56.3 MB)\n\u001b[2K   \u001b[90m━━━━━━━━━━━━━━━━━━━━━━━━━━━━━━━━━━━━━━━━\u001b[0m \u001b[32m56.3/56.3 MB\u001b[0m \u001b[31m197.2 MB/s\u001b[0m eta \u001b[36m0:00:00\u001b[0ma \u001b[36m0:00:01\u001b[0m\n\u001b[?25hDownloading nvidia_cusolver_cu12-11.6.1.9-py3-none-manylinux2014_x86_64.whl (127.9 MB)\n\u001b[2K   \u001b[90m━━━━━━━━━━━━━━━━━━━━━━━━━━━━━━━━━━━━━━━\u001b[0m \u001b[32m127.9/127.9 MB\u001b[0m \u001b[31m269.3 MB/s\u001b[0m eta \u001b[36m0:00:00\u001b[0ma \u001b[36m0:00:01\u001b[0m\n\u001b[?25hDownloading nvidia_cusparse_cu12-12.3.1.170-py3-none-manylinux2014_x86_64.whl (207.5 MB)\n\u001b[2K   \u001b[90m━━━━━━━━━━━━━━━━━━━━━━━━━━━━━━━━━━━━━━━\u001b[0m \u001b[32m207.5/207.5 MB\u001b[0m \u001b[31m254.6 MB/s\u001b[0m eta \u001b[36m0:00:00\u001b[0m00:01\u001b[0m00:01\u001b[0m\n\u001b[?25hDownloading nvidia_nccl_cu12-2.21.5-py3-none-manylinux2014_x86_64.whl (188.7 MB)\n\u001b[2K   \u001b[90m━━━━━━━━━━━━━━━━━━━━━━━━━━━━━━━━━━━━━━━\u001b[0m \u001b[32m188.7/188.7 MB\u001b[0m \u001b[31m266.3 MB/s\u001b[0m eta \u001b[36m0:00:00\u001b[0ma \u001b[36m0:00:01\u001b[0m\n\u001b[?25hDownloading nvidia_nvjitlink_cu12-12.4.127-py3-none-manylinux2014_x86_64.whl (21.1 MB)\n\u001b[2K   \u001b[90m━━━━━━━━━━━━━━━━━━━━━━━━━━━━━━━━━━━━━━━━\u001b[0m \u001b[32m21.1/21.1 MB\u001b[0m \u001b[31m286.2 MB/s\u001b[0m eta \u001b[36m0:00:00\u001b[0m\n\u001b[?25hInstalling collected packages: nvidia-nvjitlink-cu12, nvidia-nccl-cu12, nvidia-curand-cu12, nvidia-cufft-cu12, nvidia-cuda-runtime-cu12, nvidia-cuda-nvrtc-cu12, nvidia-cuda-cupti-cu12, nvidia-cublas-cu12, nvidia-cusparse-cu12, nvidia-cudnn-cu12, nvidia-cusolver-cu12\n  Attempting uninstall: nvidia-nvjitlink-cu12\n    Found existing installation: nvidia-nvjitlink-cu12 12.5.82\n    Uninstalling nvidia-nvjitlink-cu12-12.5.82:\n      Successfully uninstalled nvidia-nvjitlink-cu12-12.5.82\n  Attempting uninstall: nvidia-nccl-cu12\n    Found existing installation: nvidia-nccl-cu12 2.23.4\n    Uninstalling nvidia-nccl-cu12-2.23.4:\n      Successfully uninstalled nvidia-nccl-cu12-2.23.4\n  Attempting uninstall: nvidia-curand-cu12\n    Found existing installation: nvidia-curand-cu12 10.3.6.82\n    Uninstalling nvidia-curand-cu12-10.3.6.82:\n      Successfully uninstalled nvidia-curand-cu12-10.3.6.82\n  Attempting uninstall: nvidia-cufft-cu12\n    Found existing installation: nvidia-cufft-cu12 11.2.3.61\n    Uninstalling nvidia-cufft-cu12-11.2.3.61:\n      Successfully uninstalled nvidia-cufft-cu12-11.2.3.61\n  Attempting uninstall: nvidia-cuda-runtime-cu12\n    Found existing installation: nvidia-cuda-runtime-cu12 12.5.82\n    Uninstalling nvidia-cuda-runtime-cu12-12.5.82:\n      Successfully uninstalled nvidia-cuda-runtime-cu12-12.5.82\n  Attempting uninstall: nvidia-cuda-nvrtc-cu12\n    Found existing installation: nvidia-cuda-nvrtc-cu12 12.5.82\n    Uninstalling nvidia-cuda-nvrtc-cu12-12.5.82:\n      Successfully uninstalled nvidia-cuda-nvrtc-cu12-12.5.82\n  Attempting uninstall: nvidia-cuda-cupti-cu12\n    Found existing installation: nvidia-cuda-cupti-cu12 12.5.82\n    Uninstalling nvidia-cuda-cupti-cu12-12.5.82:\n      Successfully uninstalled nvidia-cuda-cupti-cu12-12.5.82\n  Attempting uninstall: nvidia-cublas-cu12\n    Found existing installation: nvidia-cublas-cu12 12.5.3.2\n    Uninstalling nvidia-cublas-cu12-12.5.3.2:\n      Successfully uninstalled nvidia-cublas-cu12-12.5.3.2\n  Attempting uninstall: nvidia-cusparse-cu12\n    Found existing installation: nvidia-cusparse-cu12 12.5.1.3\n    Uninstalling nvidia-cusparse-cu12-12.5.1.3:\n      Successfully uninstalled nvidia-cusparse-cu12-12.5.1.3\n  Attempting uninstall: nvidia-cudnn-cu12\n    Found existing installation: nvidia-cudnn-cu12 9.3.0.75\n    Uninstalling nvidia-cudnn-cu12-9.3.0.75:\n      Successfully uninstalled nvidia-cudnn-cu12-9.3.0.75\n  Attempting uninstall: nvidia-cusolver-cu12\n    Found existing installation: nvidia-cusolver-cu12 11.6.3.83\n    Uninstalling nvidia-cusolver-cu12-11.6.3.83:\n      Successfully uninstalled nvidia-cusolver-cu12-11.6.3.83\nSuccessfully installed nvidia-cublas-cu12-12.4.5.8 nvidia-cuda-cupti-cu12-12.4.127 nvidia-cuda-nvrtc-cu12-12.4.127 nvidia-cuda-runtime-cu12-12.4.127 nvidia-cudnn-cu12-9.1.0.70 nvidia-cufft-cu12-11.2.1.3 nvidia-curand-cu12-10.3.5.147 nvidia-cusolver-cu12-11.6.1.9 nvidia-cusparse-cu12-12.3.1.170 nvidia-nccl-cu12-2.21.5 nvidia-nvjitlink-cu12-12.4.127\nSuccessfully installed torch\nRequirement already satisfied: pandas in /anaconda/envs/azureml_py38_PT_TF/lib/python3.10/site-packages (2.2.3)\nRequirement already satisfied: numpy>=1.22.4 in /anaconda/envs/azureml_py38_PT_TF/lib/python3.10/site-packages (from pandas) (2.1.3)\nRequirement already satisfied: python-dateutil>=2.8.2 in /anaconda/envs/azureml_py38_PT_TF/lib/python3.10/site-packages (from pandas) (2.9.0.post0)\nRequirement already satisfied: pytz>=2020.1 in /anaconda/envs/azureml_py38_PT_TF/lib/python3.10/site-packages (from pandas) (2025.2)\nRequirement already satisfied: tzdata>=2022.7 in /anaconda/envs/azureml_py38_PT_TF/lib/python3.10/site-packages (from pandas) (2025.2)\nRequirement already satisfied: six>=1.5 in /anaconda/envs/azureml_py38_PT_TF/lib/python3.10/site-packages (from python-dateutil>=2.8.2->pandas) (1.17.0)\nSuccessfully installed pandas\nCollecting polars==1.7.1\n  Downloading polars-1.7.1-cp38-abi3-manylinux_2_17_x86_64.manylinux2014_x86_64.whl.metadata (14 kB)\nDownloading polars-1.7.1-cp38-abi3-manylinux_2_17_x86_64.manylinux2014_x86_64.whl (32.2 MB)\n\u001b[2K   \u001b[90m━━━━━━━━━━━━━━━━━━━━━━━━━━━━━━━━━━━━━━━━\u001b[0m \u001b[32m32.2/32.2 MB\u001b[0m \u001b[31m231.8 MB/s\u001b[0m eta \u001b[36m0:00:00\u001b[0m\n\u001b[?25hInstalling collected packages: polars\nSuccessfully installed polars-1.7.1\nSuccessfully installed polars==1.7.1\nRequirement already satisfied: scipy in /anaconda/envs/azureml_py38_PT_TF/lib/python3.10/site-packages (1.15.2)\nRequirement already satisfied: numpy<2.5,>=1.23.5 in /anaconda/envs/azureml_py38_PT_TF/lib/python3.10/site-packages (from scipy) (2.1.3)\nSuccessfully installed scipy\nRequirement already satisfied: azureml-core in /anaconda/envs/azureml_py38_PT_TF/lib/python3.10/site-packages (1.60.0)\nRequirement already satisfied: pytz in /anaconda/envs/azureml_py38_PT_TF/lib/python3.10/site-packages (from azureml-core) (2025.2)\nRequirement already satisfied: backports.tempfile in /anaconda/envs/azureml_py38_PT_TF/lib/python3.10/site-packages (from azureml-core) (1.0)\nRequirement already satisfied: pathspec<1.0.0 in /anaconda/envs/azureml_py38_PT_TF/lib/python3.10/site-packages (from azureml-core) (0.12.1)\nRequirement already satisfied: requests<3.0.0,>=2.19.1 in /anaconda/envs/azureml_py38_PT_TF/lib/python3.10/site-packages (from requests[socks]<3.0.0,>=2.19.1->azureml-core) (2.32.3)\nRequirement already satisfied: msal<2.0.0,>=1.15.0 in /anaconda/envs/azureml_py38_PT_TF/lib/python3.10/site-packages (from azureml-core) (1.32.0)\nRequirement already satisfied: msal-extensions<=2.0.0,>=0.3.0 in /anaconda/envs/azureml_py38_PT_TF/lib/python3.10/site-packages (from azureml-core) (1.3.1)\nRequirement already satisfied: knack<0.13.0 in /anaconda/envs/azureml_py38_PT_TF/lib/python3.10/site-packages (from azureml-core) (0.12.0)\nRequirement already satisfied: azure-core<2.0.0 in /anaconda/envs/azureml_py38_PT_TF/lib/python3.10/site-packages (from azureml-core) (1.33.0)\nRequirement already satisfied: pkginfo in /anaconda/envs/azureml_py38_PT_TF/lib/python3.10/site-packages (from azureml-core) (1.12.1.2)\nRequirement already satisfied: argcomplete<4 in /anaconda/envs/azureml_py38_PT_TF/lib/python3.10/site-packages (from azureml-core) (3.6.2)\nRequirement already satisfied: humanfriendly<11.0,>=4.7 in /anaconda/envs/azureml_py38_PT_TF/lib/python3.10/site-packages (from azureml-core) (10.0)\nRequirement already satisfied: paramiko<4.0.0,>=2.0.8 in /anaconda/envs/azureml_py38_PT_TF/lib/python3.10/site-packages (from azureml-core) (3.5.1)\nRequirement already satisfied: azure-mgmt-resource<=24.0.0,>=15.0.0 in /anaconda/envs/azureml_py38_PT_TF/lib/python3.10/site-packages (from azureml-core) (23.3.0)\nRequirement already satisfied: azure-mgmt-containerregistry<11,>=8.2.0 in /anaconda/envs/azureml_py38_PT_TF/lib/python3.10/site-packages (from azureml-core) (10.3.0)\nRequirement already satisfied: azure-mgmt-storage<=23.0.0,>=16.0.0 in /anaconda/envs/azureml_py38_PT_TF/lib/python3.10/site-packages (from azureml-core) (22.2.0)\nRequirement already satisfied: azure-mgmt-keyvault<11.0.0,>=0.40.0 in /anaconda/envs/azureml_py38_PT_TF/lib/python3.10/site-packages (from azureml-core) (10.3.1)\nRequirement already satisfied: azure-mgmt-authorization<5,>=0.40.0 in /anaconda/envs/azureml_py38_PT_TF/lib/python3.10/site-packages (from azureml-core) (4.0.0)\nRequirement already satisfied: azure-mgmt-network<=29.0.0 in /anaconda/envs/azureml_py38_PT_TF/lib/python3.10/site-packages (from azureml-core) (28.1.0)\nRequirement already satisfied: azure-graphrbac<1.0.0,>=0.40.0 in /anaconda/envs/azureml_py38_PT_TF/lib/python3.10/site-packages (from azureml-core) (0.61.2)\nRequirement already satisfied: azure-common<2.0.0,>=1.1.12 in /anaconda/envs/azureml_py38_PT_TF/lib/python3.10/site-packages (from azureml-core) (1.1.28)\nRequirement already satisfied: msrest<=0.7.1,>=0.5.1 in /anaconda/envs/azureml_py38_PT_TF/lib/python3.10/site-packages (from azureml-core) (0.7.1)\nRequirement already satisfied: msrestazure<=0.7,>=0.4.33 in /anaconda/envs/azureml_py38_PT_TF/lib/python3.10/site-packages (from azureml-core) (0.6.4.post1)\nRequirement already satisfied: urllib3<3.0.0,>1.26.17 in /anaconda/envs/azureml_py38_PT_TF/lib/python3.10/site-packages (from azureml-core) (2.4.0)\nRequirement already satisfied: packaging<=25.0,>=20.0 in /anaconda/envs/azureml_py38_PT_TF/lib/python3.10/site-packages (from azureml-core) (24.2)\nRequirement already satisfied: python-dateutil<3.0.0,>=2.7.3 in /anaconda/envs/azureml_py38_PT_TF/lib/python3.10/site-packages (from azureml-core) (2.9.0.post0)\nRequirement already satisfied: ndg-httpsclient<=0.5.1 in /anaconda/envs/azureml_py38_PT_TF/lib/python3.10/site-packages (from azureml-core) (0.5.1)\nRequirement already satisfied: SecretStorage<4.0.0 in /anaconda/envs/azureml_py38_PT_TF/lib/python3.10/site-packages (from azureml-core) (3.3.3)\nRequirement already satisfied: jsonpickle<5.0.0 in /anaconda/envs/azureml_py38_PT_TF/lib/python3.10/site-packages (from azureml-core) (4.0.5)\nRequirement already satisfied: contextlib2<22.0.0 in /anaconda/envs/azureml_py38_PT_TF/lib/python3.10/site-packages (from azureml-core) (21.6.0)\nRequirement already satisfied: docker<8.0.0 in /anaconda/envs/azureml_py38_PT_TF/lib/python3.10/site-packages (from azureml-core) (7.1.0)\nRequirement already satisfied: PyJWT<3.0.0 in /anaconda/envs/azureml_py38_PT_TF/lib/python3.10/site-packages (from azureml-core) (2.10.1)\nRequirement already satisfied: adal<=1.2.7,>=1.2.0 in /anaconda/envs/azureml_py38_PT_TF/lib/python3.10/site-packages (from azureml-core) (1.2.7)\nRequirement already satisfied: pyopenssl<26.0.0 in /anaconda/envs/azureml_py38_PT_TF/lib/python3.10/site-packages (from azureml-core) (25.0.0)\nRequirement already satisfied: jmespath<2.0.0 in /anaconda/envs/azureml_py38_PT_TF/lib/python3.10/site-packages (from azureml-core) (1.0.1)\nRequirement already satisfied: cryptography>=1.1.0 in /anaconda/envs/azureml_py38_PT_TF/lib/python3.10/site-packages (from adal<=1.2.7,>=1.2.0->azureml-core) (44.0.2)\nRequirement already satisfied: six>=1.11.0 in /anaconda/envs/azureml_py38_PT_TF/lib/python3.10/site-packages (from azure-core<2.0.0->azureml-core) (1.17.0)\nRequirement already satisfied: typing-extensions>=4.6.0 in /anaconda/envs/azureml_py38_PT_TF/lib/python3.10/site-packages (from azure-core<2.0.0->azureml-core) (4.13.2)\nRequirement already satisfied: isodate<1.0.0,>=0.6.1 in /anaconda/envs/azureml_py38_PT_TF/lib/python3.10/site-packages (from azure-mgmt-authorization<5,>=0.40.0->azureml-core) (0.7.2)\nRequirement already satisfied: azure-mgmt-core<2.0.0,>=1.3.2 in /anaconda/envs/azureml_py38_PT_TF/lib/python3.10/site-packages (from azure-mgmt-authorization<5,>=0.40.0->azureml-core) (1.5.0)\nRequirement already satisfied: pygments in /anaconda/envs/azureml_py38_PT_TF/lib/python3.10/site-packages (from knack<0.13.0->azureml-core) (2.19.1)\nRequirement already satisfied: pyyaml in /anaconda/envs/azureml_py38_PT_TF/lib/python3.10/site-packages (from knack<0.13.0->azureml-core) (6.0.2)\nRequirement already satisfied: tabulate in /anaconda/envs/azureml_py38_PT_TF/lib/python3.10/site-packages (from knack<0.13.0->azureml-core) (0.9.0)\nRequirement already satisfied: certifi>=2017.4.17 in /anaconda/envs/azureml_py38_PT_TF/lib/python3.10/site-packages (from msrest<=0.7.1,>=0.5.1->azureml-core) (2025.1.31)\nRequirement already satisfied: requests-oauthlib>=0.5.0 in /anaconda/envs/azureml_py38_PT_TF/lib/python3.10/site-packages (from msrest<=0.7.1,>=0.5.1->azureml-core) (2.0.0)\nRequirement already satisfied: pyasn1>=0.1.1 in /anaconda/envs/azureml_py38_PT_TF/lib/python3.10/site-packages (from ndg-httpsclient<=0.5.1->azureml-core) (0.6.1)\nRequirement already satisfied: bcrypt>=3.2 in /anaconda/envs/azureml_py38_PT_TF/lib/python3.10/site-packages (from paramiko<4.0.0,>=2.0.8->azureml-core) (4.3.0)\nRequirement already satisfied: pynacl>=1.5 in /anaconda/envs/azureml_py38_PT_TF/lib/python3.10/site-packages (from paramiko<4.0.0,>=2.0.8->azureml-core) (1.5.0)\nRequirement already satisfied: charset-normalizer<4,>=2 in /anaconda/envs/azureml_py38_PT_TF/lib/python3.10/site-packages (from requests<3.0.0,>=2.19.1->requests[socks]<3.0.0,>=2.19.1->azureml-core) (3.4.1)\nRequirement already satisfied: idna<4,>=2.5 in /anaconda/envs/azureml_py38_PT_TF/lib/python3.10/site-packages (from requests<3.0.0,>=2.19.1->requests[socks]<3.0.0,>=2.19.1->azureml-core) (3.10)\nRequirement already satisfied: PySocks!=1.5.7,>=1.5.6 in /anaconda/envs/azureml_py38_PT_TF/lib/python3.10/site-packages (from requests[socks]<3.0.0,>=2.19.1->azureml-core) (1.7.1)\nRequirement already satisfied: jeepney>=0.6 in /anaconda/envs/azureml_py38_PT_TF/lib/python3.10/site-packages (from SecretStorage<4.0.0->azureml-core) (0.9.0)\nRequirement already satisfied: backports.weakref in /anaconda/envs/azureml_py38_PT_TF/lib/python3.10/site-packages (from backports.tempfile->azureml-core) (1.0.post1)\nRequirement already satisfied: cffi>=1.12 in /anaconda/envs/azureml_py38_PT_TF/lib/python3.10/site-packages (from cryptography>=1.1.0->adal<=1.2.7,>=1.2.0->azureml-core) (1.17.1)\nRequirement already satisfied: oauthlib>=3.0.0 in /anaconda/envs/azureml_py38_PT_TF/lib/python3.10/site-packages (from requests-oauthlib>=0.5.0->msrest<=0.7.1,>=0.5.1->azureml-core) (3.2.2)\nRequirement already satisfied: pycparser in /anaconda/envs/azureml_py38_PT_TF/lib/python3.10/site-packages (from cffi>=1.12->cryptography>=1.1.0->adal<=1.2.7,>=1.2.0->azureml-core) (2.22)\nSuccessfully installed azureml-core\nCollecting mltable==1.6.1\n  Downloading mltable-1.6.1-py3-none-any.whl.metadata (4.8 kB)\nRequirement already satisfied: azureml-dataprep<5.2.0a,>=5.1.0a in /anaconda/envs/azureml_py38_PT_TF/lib/python3.10/site-packages (from azureml-dataprep[parquet]<5.2.0a,>=5.1.0a->mltable==1.6.1) (5.1.6)\nRequirement already satisfied: pyyaml<7.0.0,>=5.1.0 in /anaconda/envs/azureml_py38_PT_TF/lib/python3.10/site-packages (from mltable==1.6.1) (6.0.2)\nRequirement already satisfied: jsonschema<5.0.0,>=4.0.0 in /anaconda/envs/azureml_py38_PT_TF/lib/python3.10/site-packages (from mltable==1.6.1) (4.23.0)\nRequirement already satisfied: msrest>=0.6.18 in /anaconda/envs/azureml_py38_PT_TF/lib/python3.10/site-packages (from mltable==1.6.1) (0.7.1)\nRequirement already satisfied: azure-core!=1.22.0,<2.0.0,>=1.8.0 in /anaconda/envs/azureml_py38_PT_TF/lib/python3.10/site-packages (from mltable==1.6.1) (1.33.0)\nRequirement already satisfied: azure-mgmt-core<2.0.0,>=1.3.0 in /anaconda/envs/azureml_py38_PT_TF/lib/python3.10/site-packages (from mltable==1.6.1) (1.5.0)\nRequirement already satisfied: python-dateutil<3.0.0,>=2.7.3 in /anaconda/envs/azureml_py38_PT_TF/lib/python3.10/site-packages (from mltable==1.6.1) (2.9.0.post0)\nRequirement already satisfied: cryptography!=1.9,!=2.0.*,!=2.1.*,!=2.2.* in /anaconda/envs/azureml_py38_PT_TF/lib/python3.10/site-packages (from mltable==1.6.1) (44.0.2)\nRequirement already satisfied: PyJWT<3.0.0 in /anaconda/envs/azureml_py38_PT_TF/lib/python3.10/site-packages (from mltable==1.6.1) (2.10.1)\nRequirement already satisfied: pytz in /anaconda/envs/azureml_py38_PT_TF/lib/python3.10/site-packages (from mltable==1.6.1) (2025.2)\nRequirement already satisfied: requests>=2.21.0 in /anaconda/envs/azureml_py38_PT_TF/lib/python3.10/site-packages (from azure-core!=1.22.0,<2.0.0,>=1.8.0->mltable==1.6.1) (2.32.3)\nRequirement already satisfied: six>=1.11.0 in /anaconda/envs/azureml_py38_PT_TF/lib/python3.10/site-packages (from azure-core!=1.22.0,<2.0.0,>=1.8.0->mltable==1.6.1) (1.17.0)\nRequirement already satisfied: typing-extensions>=4.6.0 in /anaconda/envs/azureml_py38_PT_TF/lib/python3.10/site-packages (from azure-core!=1.22.0,<2.0.0,>=1.8.0->mltable==1.6.1) (4.13.2)\nRequirement already satisfied: azureml-dataprep-native<42.0.0,>=41.0.0 in /anaconda/envs/azureml_py38_PT_TF/lib/python3.10/site-packages (from azureml-dataprep<5.2.0a,>=5.1.0a->azureml-dataprep[parquet]<5.2.0a,>=5.1.0a->mltable==1.6.1) (41.0.0)\nRequirement already satisfied: azureml-dataprep-rslex~=2.22.2dev0 in /anaconda/envs/azureml_py38_PT_TF/lib/python3.10/site-packages (from azureml-dataprep<5.2.0a,>=5.1.0a->azureml-dataprep[parquet]<5.2.0a,>=5.1.0a->mltable==1.6.1) (2.22.5)\nRequirement already satisfied: cloudpickle<3.0.0,>=1.1.0 in /anaconda/envs/azureml_py38_PT_TF/lib/python3.10/site-packages (from azureml-dataprep<5.2.0a,>=5.1.0a->azureml-dataprep[parquet]<5.2.0a,>=5.1.0a->mltable==1.6.1) (2.2.1)\nRequirement already satisfied: azure-identity>=1.7.0 in /anaconda/envs/azureml_py38_PT_TF/lib/python3.10/site-packages (from azureml-dataprep<5.2.0a,>=5.1.0a->azureml-dataprep[parquet]<5.2.0a,>=5.1.0a->mltable==1.6.1) (1.21.0)\nRequirement already satisfied: pyarrow>=0.17.0 in /anaconda/envs/azureml_py38_PT_TF/lib/python3.10/site-packages (from azureml-dataprep[parquet]<5.2.0a,>=5.1.0a->mltable==1.6.1) (19.0.1)\nRequirement already satisfied: cffi>=1.12 in /anaconda/envs/azureml_py38_PT_TF/lib/python3.10/site-packages (from cryptography!=1.9,!=2.0.*,!=2.1.*,!=2.2.*->mltable==1.6.1) (1.17.1)\nRequirement already satisfied: attrs>=22.2.0 in /anaconda/envs/azureml_py38_PT_TF/lib/python3.10/site-packages (from jsonschema<5.0.0,>=4.0.0->mltable==1.6.1) (25.3.0)\nRequirement already satisfied: jsonschema-specifications>=2023.03.6 in /anaconda/envs/azureml_py38_PT_TF/lib/python3.10/site-packages (from jsonschema<5.0.0,>=4.0.0->mltable==1.6.1) (2024.10.1)\nRequirement already satisfied: referencing>=0.28.4 in /anaconda/envs/azureml_py38_PT_TF/lib/python3.10/site-packages (from jsonschema<5.0.0,>=4.0.0->mltable==1.6.1) (0.36.2)\nRequirement already satisfied: rpds-py>=0.7.1 in /anaconda/envs/azureml_py38_PT_TF/lib/python3.10/site-packages (from jsonschema<5.0.0,>=4.0.0->mltable==1.6.1) (0.24.0)\nRequirement already satisfied: certifi>=2017.4.17 in /anaconda/envs/azureml_py38_PT_TF/lib/python3.10/site-packages (from msrest>=0.6.18->mltable==1.6.1) (2025.1.31)\nRequirement already satisfied: isodate>=0.6.0 in /anaconda/envs/azureml_py38_PT_TF/lib/python3.10/site-packages (from msrest>=0.6.18->mltable==1.6.1) (0.7.2)\nRequirement already satisfied: requests-oauthlib>=0.5.0 in /anaconda/envs/azureml_py38_PT_TF/lib/python3.10/site-packages (from msrest>=0.6.18->mltable==1.6.1) (2.0.0)\nRequirement already satisfied: msal>=1.30.0 in /anaconda/envs/azureml_py38_PT_TF/lib/python3.10/site-packages (from azure-identity>=1.7.0->azureml-dataprep<5.2.0a,>=5.1.0a->azureml-dataprep[parquet]<5.2.0a,>=5.1.0a->mltable==1.6.1) (1.32.0)\nRequirement already satisfied: msal-extensions>=1.2.0 in /anaconda/envs/azureml_py38_PT_TF/lib/python3.10/site-packages (from azure-identity>=1.7.0->azureml-dataprep<5.2.0a,>=5.1.0a->azureml-dataprep[parquet]<5.2.0a,>=5.1.0a->mltable==1.6.1) (1.3.1)\nRequirement already satisfied: pycparser in /anaconda/envs/azureml_py38_PT_TF/lib/python3.10/site-packages (from cffi>=1.12->cryptography!=1.9,!=2.0.*,!=2.1.*,!=2.2.*->mltable==1.6.1) (2.22)\nRequirement already satisfied: charset-normalizer<4,>=2 in /anaconda/envs/azureml_py38_PT_TF/lib/python3.10/site-packages (from requests>=2.21.0->azure-core!=1.22.0,<2.0.0,>=1.8.0->mltable==1.6.1) (3.4.1)\nRequirement already satisfied: idna<4,>=2.5 in /anaconda/envs/azureml_py38_PT_TF/lib/python3.10/site-packages (from requests>=2.21.0->azure-core!=1.22.0,<2.0.0,>=1.8.0->mltable==1.6.1) (3.10)\nRequirement already satisfied: urllib3<3,>=1.21.1 in /anaconda/envs/azureml_py38_PT_TF/lib/python3.10/site-packages (from requests>=2.21.0->azure-core!=1.22.0,<2.0.0,>=1.8.0->mltable==1.6.1) (2.4.0)\nRequirement already satisfied: oauthlib>=3.0.0 in /anaconda/envs/azureml_py38_PT_TF/lib/python3.10/site-packages (from requests-oauthlib>=0.5.0->msrest>=0.6.18->mltable==1.6.1) (3.2.2)\nDownloading mltable-1.6.1-py3-none-any.whl (189 kB)\nInstalling collected packages: mltable\nSuccessfully installed mltable-1.6.1\nSuccessfully installed mltable==1.6.1\nCollecting marshmallow==3.21.3\n  Downloading marshmallow-3.21.3-py3-none-any.whl.metadata (7.1 kB)\nRequirement already satisfied: packaging>=17.0 in /anaconda/envs/azureml_py38_PT_TF/lib/python3.10/site-packages (from marshmallow==3.21.3) (24.2)\nDownloading marshmallow-3.21.3-py3-none-any.whl (49 kB)\nInstalling collected packages: marshmallow\nSuccessfully installed marshmallow-3.21.3\nSuccessfully installed marshmallow==3.21.3\nCollecting azure-ai-ml==1.22.0\n  Downloading azure_ai_ml-1.22.0-py3-none-any.whl.metadata (33 kB)\nRequirement already satisfied: pyyaml>=5.1.0 in /anaconda/envs/azureml_py38_PT_TF/lib/python3.10/site-packages (from azure-ai-ml==1.22.0) (6.0.2)\nRequirement already satisfied: msrest>=0.6.18 in /anaconda/envs/azureml_py38_PT_TF/lib/python3.10/site-packages (from azure-ai-ml==1.22.0) (0.7.1)\nRequirement already satisfied: azure-core>=1.23.0 in /anaconda/envs/azureml_py38_PT_TF/lib/python3.10/site-packages (from azure-ai-ml==1.22.0) (1.33.0)\nRequirement already satisfied: azure-mgmt-core>=1.3.0 in /anaconda/envs/azureml_py38_PT_TF/lib/python3.10/site-packages (from azure-ai-ml==1.22.0) (1.5.0)\nRequirement already satisfied: marshmallow>=3.5 in /anaconda/envs/azureml_py38_PT_TF/lib/python3.10/site-packages (from azure-ai-ml==1.22.0) (3.21.3)\nRequirement already satisfied: jsonschema>=4.0.0 in /anaconda/envs/azureml_py38_PT_TF/lib/python3.10/site-packages (from azure-ai-ml==1.22.0) (4.23.0)\nRequirement already satisfied: tqdm in /anaconda/envs/azureml_py38_PT_TF/lib/python3.10/site-packages (from azure-ai-ml==1.22.0) (4.67.1)\nCollecting strictyaml (from azure-ai-ml==1.22.0)\n  Downloading strictyaml-1.7.3-py3-none-any.whl.metadata (11 kB)\nCollecting colorama (from azure-ai-ml==1.22.0)\n  Downloading colorama-0.4.6-py2.py3-none-any.whl.metadata (17 kB)\nRequirement already satisfied: pyjwt in /anaconda/envs/azureml_py38_PT_TF/lib/python3.10/site-packages (from azure-ai-ml==1.22.0) (2.10.1)\nRequirement already satisfied: azure-storage-blob>=12.10.0 in /anaconda/envs/azureml_py38_PT_TF/lib/python3.10/site-packages (from azure-ai-ml==1.22.0) (12.19.0)\nCollecting azure-storage-file-share (from azure-ai-ml==1.22.0)\n  Downloading azure_storage_file_share-12.21.0-py3-none-any.whl.metadata (50 kB)\nCollecting azure-storage-file-datalake>=12.2.0 (from azure-ai-ml==1.22.0)\n  Downloading azure_storage_file_datalake-12.20.0-py3-none-any.whl.metadata (16 kB)\nCollecting pydash>=6.0.0 (from azure-ai-ml==1.22.0)\n  Downloading pydash-8.0.5-py3-none-any.whl.metadata (4.5 kB)\nRequirement already satisfied: isodate in /anaconda/envs/azureml_py38_PT_TF/lib/python3.10/site-packages (from azure-ai-ml==1.22.0) (0.7.2)\nRequirement already satisfied: azure-common>=1.1 in /anaconda/envs/azureml_py38_PT_TF/lib/python3.10/site-packages (from azure-ai-ml==1.22.0) (1.1.28)\nRequirement already satisfied: typing-extensions in /anaconda/envs/azureml_py38_PT_TF/lib/python3.10/site-packages (from azure-ai-ml==1.22.0) (4.13.2)\nRequirement already satisfied: opencensus-ext-azure in /anaconda/envs/azureml_py38_PT_TF/lib/python3.10/site-packages (from azure-ai-ml==1.22.0) (1.1.14)\nCollecting opencensus-ext-logging (from azure-ai-ml==1.22.0)\n  Downloading opencensus_ext_logging-0.1.1-py2.py3-none-any.whl.metadata (2.3 kB)\nRequirement already satisfied: requests>=2.21.0 in /anaconda/envs/azureml_py38_PT_TF/lib/python3.10/site-packages (from azure-core>=1.23.0->azure-ai-ml==1.22.0) (2.32.3)\nRequirement already satisfied: six>=1.11.0 in /anaconda/envs/azureml_py38_PT_TF/lib/python3.10/site-packages (from azure-core>=1.23.0->azure-ai-ml==1.22.0) (1.17.0)\nRequirement already satisfied: cryptography>=2.1.4 in /anaconda/envs/azureml_py38_PT_TF/lib/python3.10/site-packages (from azure-storage-blob>=12.10.0->azure-ai-ml==1.22.0) (44.0.2)\nCollecting azure-storage-blob>=12.10.0 (from azure-ai-ml==1.22.0)\n  Downloading azure_storage_blob-12.25.1-py3-none-any.whl.metadata (26 kB)\nRequirement already satisfied: attrs>=22.2.0 in /anaconda/envs/azureml_py38_PT_TF/lib/python3.10/site-packages (from jsonschema>=4.0.0->azure-ai-ml==1.22.0) (25.3.0)\nRequirement already satisfied: jsonschema-specifications>=2023.03.6 in /anaconda/envs/azureml_py38_PT_TF/lib/python3.10/site-packages (from jsonschema>=4.0.0->azure-ai-ml==1.22.0) (2024.10.1)\nRequirement already satisfied: referencing>=0.28.4 in /anaconda/envs/azureml_py38_PT_TF/lib/python3.10/site-packages (from jsonschema>=4.0.0->azure-ai-ml==1.22.0) (0.36.2)\nRequirement already satisfied: rpds-py>=0.7.1 in /anaconda/envs/azureml_py38_PT_TF/lib/python3.10/site-packages (from jsonschema>=4.0.0->azure-ai-ml==1.22.0) (0.24.0)\nRequirement already satisfied: packaging>=17.0 in /anaconda/envs/azureml_py38_PT_TF/lib/python3.10/site-packages (from marshmallow>=3.5->azure-ai-ml==1.22.0) (24.2)\nRequirement already satisfied: certifi>=2017.4.17 in /anaconda/envs/azureml_py38_PT_TF/lib/python3.10/site-packages (from msrest>=0.6.18->azure-ai-ml==1.22.0) (2025.1.31)\nRequirement already satisfied: requests-oauthlib>=0.5.0 in /anaconda/envs/azureml_py38_PT_TF/lib/python3.10/site-packages (from msrest>=0.6.18->azure-ai-ml==1.22.0) (2.0.0)\nRequirement already satisfied: azure-identity<2.0.0,>=1.5.0 in /anaconda/envs/azureml_py38_PT_TF/lib/python3.10/site-packages (from opencensus-ext-azure->azure-ai-ml==1.22.0) (1.21.0)\nRequirement already satisfied: opencensus<1.0.0,>=0.11.4 in /anaconda/envs/azureml_py38_PT_TF/lib/python3.10/site-packages (from opencensus-ext-azure->azure-ai-ml==1.22.0) (0.11.4)\nRequirement already satisfied: psutil>=5.6.3 in /anaconda/envs/azureml_py38_PT_TF/lib/python3.10/site-packages (from opencensus-ext-azure->azure-ai-ml==1.22.0) (5.9.1)\nRequirement already satisfied: python-dateutil>=2.6.0 in /anaconda/envs/azureml_py38_PT_TF/lib/python3.10/site-packages (from strictyaml->azure-ai-ml==1.22.0) (2.9.0.post0)\nRequirement already satisfied: msal>=1.30.0 in /anaconda/envs/azureml_py38_PT_TF/lib/python3.10/site-packages (from azure-identity<2.0.0,>=1.5.0->opencensus-ext-azure->azure-ai-ml==1.22.0) (1.32.0)\nRequirement already satisfied: msal-extensions>=1.2.0 in /anaconda/envs/azureml_py38_PT_TF/lib/python3.10/site-packages (from azure-identity<2.0.0,>=1.5.0->opencensus-ext-azure->azure-ai-ml==1.22.0) (1.3.1)\nRequirement already satisfied: cffi>=1.12 in /anaconda/envs/azureml_py38_PT_TF/lib/python3.10/site-packages (from cryptography>=2.1.4->azure-storage-blob>=12.10.0->azure-ai-ml==1.22.0) (1.17.1)\nRequirement already satisfied: opencensus-context>=0.1.3 in /anaconda/envs/azureml_py38_PT_TF/lib/python3.10/site-packages (from opencensus<1.0.0,>=0.11.4->opencensus-ext-azure->azure-ai-ml==1.22.0) (0.1.3)\nRequirement already satisfied: google-api-core<3.0.0,>=1.0.0 in /anaconda/envs/azureml_py38_PT_TF/lib/python3.10/site-packages (from opencensus<1.0.0,>=0.11.4->opencensus-ext-azure->azure-ai-ml==1.22.0) (2.24.2)\nRequirement already satisfied: charset-normalizer<4,>=2 in /anaconda/envs/azureml_py38_PT_TF/lib/python3.10/site-packages (from requests>=2.21.0->azure-core>=1.23.0->azure-ai-ml==1.22.0) (3.4.1)\nRequirement already satisfied: idna<4,>=2.5 in /anaconda/envs/azureml_py38_PT_TF/lib/python3.10/site-packages (from requests>=2.21.0->azure-core>=1.23.0->azure-ai-ml==1.22.0) (3.10)\nRequirement already satisfied: urllib3<3,>=1.21.1 in /anaconda/envs/azureml_py38_PT_TF/lib/python3.10/site-packages (from requests>=2.21.0->azure-core>=1.23.0->azure-ai-ml==1.22.0) (2.4.0)\nRequirement already satisfied: oauthlib>=3.0.0 in /anaconda/envs/azureml_py38_PT_TF/lib/python3.10/site-packages (from requests-oauthlib>=0.5.0->msrest>=0.6.18->azure-ai-ml==1.22.0) (3.2.2)\nRequirement already satisfied: pycparser in /anaconda/envs/azureml_py38_PT_TF/lib/python3.10/site-packages (from cffi>=1.12->cryptography>=2.1.4->azure-storage-blob>=12.10.0->azure-ai-ml==1.22.0) (2.22)\nRequirement already satisfied: googleapis-common-protos<2.0.0,>=1.56.2 in /anaconda/envs/azureml_py38_PT_TF/lib/python3.10/site-packages (from google-api-core<3.0.0,>=1.0.0->opencensus<1.0.0,>=0.11.4->opencensus-ext-azure->azure-ai-ml==1.22.0) (1.70.0)\nRequirement already satisfied: protobuf!=3.20.0,!=3.20.1,!=4.21.0,!=4.21.1,!=4.21.2,!=4.21.3,!=4.21.4,!=4.21.5,<7.0.0,>=3.19.5 in /anaconda/envs/azureml_py38_PT_TF/lib/python3.10/site-packages (from google-api-core<3.0.0,>=1.0.0->opencensus<1.0.0,>=0.11.4->opencensus-ext-azure->azure-ai-ml==1.22.0) (5.29.4)\nRequirement already satisfied: proto-plus<2.0.0,>=1.22.3 in /anaconda/envs/azureml_py38_PT_TF/lib/python3.10/site-packages (from google-api-core<3.0.0,>=1.0.0->opencensus<1.0.0,>=0.11.4->opencensus-ext-azure->azure-ai-ml==1.22.0) (1.26.1)\nRequirement already satisfied: google-auth<3.0.0,>=2.14.1 in /anaconda/envs/azureml_py38_PT_TF/lib/python3.10/site-packages (from google-api-core<3.0.0,>=1.0.0->opencensus<1.0.0,>=0.11.4->opencensus-ext-azure->azure-ai-ml==1.22.0) (2.39.0)\nRequirement already satisfied: cachetools<6.0,>=2.0.0 in /anaconda/envs/azureml_py38_PT_TF/lib/python3.10/site-packages (from google-auth<3.0.0,>=2.14.1->google-api-core<3.0.0,>=1.0.0->opencensus<1.0.0,>=0.11.4->opencensus-ext-azure->azure-ai-ml==1.22.0) (5.5.2)\nRequirement already satisfied: pyasn1-modules>=0.2.1 in /anaconda/envs/azureml_py38_PT_TF/lib/python3.10/site-packages (from google-auth<3.0.0,>=2.14.1->google-api-core<3.0.0,>=1.0.0->opencensus<1.0.0,>=0.11.4->opencensus-ext-azure->azure-ai-ml==1.22.0) (0.4.2)\nRequirement already satisfied: rsa<5,>=3.1.4 in /anaconda/envs/azureml_py38_PT_TF/lib/python3.10/site-packages (from google-auth<3.0.0,>=2.14.1->google-api-core<3.0.0,>=1.0.0->opencensus<1.0.0,>=0.11.4->opencensus-ext-azure->azure-ai-ml==1.22.0) (4.9.1)\nRequirement already satisfied: pyasn1<0.7.0,>=0.6.1 in /anaconda/envs/azureml_py38_PT_TF/lib/python3.10/site-packages (from pyasn1-modules>=0.2.1->google-auth<3.0.0,>=2.14.1->google-api-core<3.0.0,>=1.0.0->opencensus<1.0.0,>=0.11.4->opencensus-ext-azure->azure-ai-ml==1.22.0) (0.6.1)\nDownloading azure_ai_ml-1.22.0-py3-none-any.whl (12.3 MB)\n\u001b[2K   \u001b[90m━━━━━━━━━━━━━━━━━━━━━━━━━━━━━━━━━━━━━━━━\u001b[0m \u001b[32m12.3/12.3 MB\u001b[0m \u001b[31m237.8 MB/s\u001b[0m eta \u001b[36m0:00:00\u001b[0m\n\u001b[?25hDownloading azure_storage_file_datalake-12.20.0-py3-none-any.whl (263 kB)\nDownloading azure_storage_blob-12.25.1-py3-none-any.whl (406 kB)\nDownloading pydash-8.0.5-py3-none-any.whl (102 kB)\nDownloading azure_storage_file_share-12.21.0-py3-none-any.whl (290 kB)\nDownloading colorama-0.4.6-py2.py3-none-any.whl (25 kB)\nDownloading opencensus_ext_logging-0.1.1-py2.py3-none-any.whl (4.0 kB)\nDownloading strictyaml-1.7.3-py3-none-any.whl (123 kB)\nInstalling collected packages: pydash, colorama, strictyaml, azure-storage-file-share, azure-storage-blob, azure-storage-file-datalake, opencensus-ext-logging, azure-ai-ml\n  Attempting uninstall: azure-storage-blob\n    Found existing installation: azure-storage-blob 12.19.0\n    Uninstalling azure-storage-blob-12.19.0:\n      Successfully uninstalled azure-storage-blob-12.19.0\nSuccessfully installed azure-ai-ml-1.22.0 azure-storage-blob-12.25.1 azure-storage-file-datalake-12.20.0 azure-storage-file-share-12.21.0 colorama-0.4.6 opencensus-ext-logging-0.1.1 pydash-8.0.5 strictyaml-1.7.3\nSuccessfully installed azure-ai-ml==1.22.0\nCollecting ipywidgets>=7.0.0\n  Downloading ipywidgets-8.1.7-py3-none-any.whl.metadata (2.4 kB)\nRequirement already satisfied: comm>=0.1.3 in /anaconda/envs/azureml_py38_PT_TF/lib/python3.10/site-packages (from ipywidgets>=7.0.0) (0.2.2)\nRequirement already satisfied: ipython>=6.1.0 in /anaconda/envs/azureml_py38_PT_TF/lib/python3.10/site-packages (from ipywidgets>=7.0.0) (8.35.0)\nRequirement already satisfied: traitlets>=4.3.1 in /anaconda/envs/azureml_py38_PT_TF/lib/python3.10/site-packages (from ipywidgets>=7.0.0) (5.14.3)\nCollecting widgetsnbextension~=4.0.14 (from ipywidgets>=7.0.0)\n  Downloading widgetsnbextension-4.0.14-py3-none-any.whl.metadata (1.6 kB)\nCollecting jupyterlab_widgets~=3.0.15 (from ipywidgets>=7.0.0)\n  Downloading jupyterlab_widgets-3.0.15-py3-none-any.whl.metadata (20 kB)\nRequirement already satisfied: decorator in /anaconda/envs/azureml_py38_PT_TF/lib/python3.10/site-packages (from ipython>=6.1.0->ipywidgets>=7.0.0) (5.2.1)\nRequirement already satisfied: exceptiongroup in /anaconda/envs/azureml_py38_PT_TF/lib/python3.10/site-packages (from ipython>=6.1.0->ipywidgets>=7.0.0) (1.2.2)\nRequirement already satisfied: jedi>=0.16 in /anaconda/envs/azureml_py38_PT_TF/lib/python3.10/site-packages (from ipython>=6.1.0->ipywidgets>=7.0.0) (0.19.2)\nRequirement already satisfied: matplotlib-inline in /anaconda/envs/azureml_py38_PT_TF/lib/python3.10/site-packages (from ipython>=6.1.0->ipywidgets>=7.0.0) (0.1.7)\nRequirement already satisfied: pexpect>4.3 in /anaconda/envs/azureml_py38_PT_TF/lib/python3.10/site-packages (from ipython>=6.1.0->ipywidgets>=7.0.0) (4.9.0)\nRequirement already satisfied: prompt_toolkit<3.1.0,>=3.0.41 in /anaconda/envs/azureml_py38_PT_TF/lib/python3.10/site-packages (from ipython>=6.1.0->ipywidgets>=7.0.0) (3.0.47)\nRequirement already satisfied: pygments>=2.4.0 in /anaconda/envs/azureml_py38_PT_TF/lib/python3.10/site-packages (from ipython>=6.1.0->ipywidgets>=7.0.0) (2.19.1)\nRequirement already satisfied: stack_data in /anaconda/envs/azureml_py38_PT_TF/lib/python3.10/site-packages (from ipython>=6.1.0->ipywidgets>=7.0.0) (0.6.3)\nRequirement already satisfied: typing_extensions>=4.6 in /anaconda/envs/azureml_py38_PT_TF/lib/python3.10/site-packages (from ipython>=6.1.0->ipywidgets>=7.0.0) (4.13.2)\nRequirement already satisfied: parso<0.9.0,>=0.8.4 in /anaconda/envs/azureml_py38_PT_TF/lib/python3.10/site-packages (from jedi>=0.16->ipython>=6.1.0->ipywidgets>=7.0.0) (0.8.4)\nRequirement already satisfied: ptyprocess>=0.5 in /anaconda/envs/azureml_py38_PT_TF/lib/python3.10/site-packages (from pexpect>4.3->ipython>=6.1.0->ipywidgets>=7.0.0) (0.7.0)\nRequirement already satisfied: wcwidth in /anaconda/envs/azureml_py38_PT_TF/lib/python3.10/site-packages (from prompt_toolkit<3.1.0,>=3.0.41->ipython>=6.1.0->ipywidgets>=7.0.0) (0.2.13)\nRequirement already satisfied: executing>=1.2.0 in /anaconda/envs/azureml_py38_PT_TF/lib/python3.10/site-packages (from stack_data->ipython>=6.1.0->ipywidgets>=7.0.0) (2.1.0)\nRequirement already satisfied: asttokens>=2.1.0 in /anaconda/envs/azureml_py38_PT_TF/lib/python3.10/site-packages (from stack_data->ipython>=6.1.0->ipywidgets>=7.0.0) (3.0.0)\nRequirement already satisfied: pure_eval in /anaconda/envs/azureml_py38_PT_TF/lib/python3.10/site-packages (from stack_data->ipython>=6.1.0->ipywidgets>=7.0.0) (0.2.3)\nDownloading ipywidgets-8.1.7-py3-none-any.whl (139 kB)\nDownloading jupyterlab_widgets-3.0.15-py3-none-any.whl (216 kB)\nDownloading widgetsnbextension-4.0.14-py3-none-any.whl (2.2 MB)\n\u001b[2K   \u001b[90m━━━━━━━━━━━━━━━━━━━━━━━━━━━━━━━━━━━━━━━━\u001b[0m \u001b[32m2.2/2.2 MB\u001b[0m \u001b[31m99.1 MB/s\u001b[0m eta \u001b[36m0:00:00\u001b[0m\n\u001b[?25hInstalling collected packages: widgetsnbextension, jupyterlab_widgets, ipywidgets\nSuccessfully installed ipywidgets-8.1.7 jupyterlab_widgets-3.0.15 widgetsnbextension-4.0.14\nSuccessfully installed ipywidgets>=7.0.0\nTransformers: 4.46.0\nPolars: 1.7.1\nPyTorch: 2.6.0+cu124\nAzure ML SDK: 1.60.0\nMarshmallow: 3.21.3\nIPyWidgets: 8.1.7\nPython executable: /anaconda/envs/azureml_py38_PT_TF/bin/python\n"
        }
      ],
      "execution_count": 1,
      "metadata": {
        "gather": {
          "logged": 1749160244255
        }
      }
    },
    {
      "cell_type": "code",
      "source": [
        "from azureml.core import Workspace, Datastore\n",
        "import pandas as pd\n",
        "import os\n",
        "\n",
        "def download_and_load_csv(datastore, datastore_path, local_path=None):\n",
        "    if local_path is None:\n",
        "        local_path = datastore_path\n",
        "    # Download the file if it doesn't exist locally\n",
        "    if not os.path.exists(local_path):\n",
        "        print(f\"Downloading {datastore_path} to {local_path} ...\")\n",
        "        datastore.download(target_path=\".\", prefix=datastore_path, overwrite=True)\n",
        "    else:\n",
        "        print(f\"{local_path} already exists locally.\")\n",
        "    # Load into DataFrame\n",
        "    df = pd.read_csv(local_path)\n",
        "    print(f\"Loaded {local_path}: shape {df.shape}\")\n",
        "    return df\n",
        "\n",
        "# Connect to workspace\n",
        "ws = Workspace.from_config()\n",
        "datastore = ws.get_default_datastore()\n",
        "\n",
        "# Example usage for events.csv\n",
        "events_df = download_and_load_csv(datastore, \"UI/2025-05-31_184443_UTC/events.csv\")\n",
        "\n",
        "# Example usage for train.csv (Amazon product data)\n",
        "amazon_df = download_and_load_csv(datastore, \"UI/2025-06-05_174812_UTC/train.csv\")\n"
      ],
      "outputs": [
        {
          "output_type": "stream",
          "name": "stdout",
          "text": "UI/2025-05-31_184443_UTC/events.csv already exists locally.\nLoaded UI/2025-05-31_184443_UTC/events.csv: shape (2756101, 5)\nUI/2025-06-05_174812_UTC/train.csv already exists locally.\nLoaded UI/2025-06-05_174812_UTC/train.csv: shape (2249698, 6)\n"
        }
      ],
      "execution_count": 3,
      "metadata": {
        "gather": {
          "logged": 1749160426781
        }
      }
    },
    {
      "cell_type": "code",
      "source": [
        "# List of (datastore_path, local_filename)\n",
        "datasets = [\n",
        "    (\"UI/2025-05-31_184443_UTC/events.csv\", \"events_df\"),\n",
        "    (\"UI/2025-06-05_174812_UTC/train.csv\", \"amazon_df\"),\n",
        "    (\"UI/2025-06-05_185930_UTC/item_properties_part1.csv\", \"item_properties1_df\"),\n",
        "    (\"UI/2025-06-05_190018_UTC/item_properties_part2.csv\", \"item_properties2_df\"),\n",
        "    (\"UI/2025-06-05_190107_UTC/category_tree.csv\", \"category_tree_df\")\n",
        "]\n",
        "\n",
        "# Dictionary to store each DataFrame\n",
        "dataframes = {}\n",
        "\n",
        "for datastore_path, df_name in datasets:\n",
        "    df = download_and_load_csv(datastore, datastore_path)\n",
        "    dataframes[df_name] = df\n",
        "\n",
        "# Unpack for easy access\n",
        "events_df = dataframes[\"events_df\"]\n",
        "amazon_df = dataframes[\"amazon_df\"]\n",
        "item_properties1_df = dataframes[\"item_properties1_df\"]\n",
        "item_properties2_df = dataframes[\"item_properties2_df\"]\n",
        "category_tree_df = dataframes[\"category_tree_df\"]\n",
        "\n",
        "# Quick check of shapes\n",
        "print(\"events_df:\", events_df.shape)\n",
        "print(\"amazon_df:\", amazon_df.shape)\n",
        "print(\"item_properties1_df:\", item_properties1_df.shape)\n",
        "print(\"item_properties2_df:\", item_properties2_df.shape)\n",
        "print(\"category_tree_df:\", category_tree_df.shape)\n"
      ],
      "outputs": [
        {
          "output_type": "stream",
          "name": "stdout",
          "text": "UI/2025-05-31_184443_UTC/events.csv already exists locally.\nLoaded UI/2025-05-31_184443_UTC/events.csv: shape (2756101, 5)\nUI/2025-06-05_174812_UTC/train.csv already exists locally.\nLoaded UI/2025-06-05_174812_UTC/train.csv: shape (2249698, 6)\nDownloading UI/2025-06-05_185930_UTC/item_properties_part1.csv to UI/2025-06-05_185930_UTC/item_properties_part1.csv ...\nDownloading UI/2025-06-05_185930_UTC/item_properties_part1.csv\nDownloaded UI/2025-06-05_185930_UTC/item_properties_part1.csv, 1 files out of an estimated total of 1\nLoaded UI/2025-06-05_185930_UTC/item_properties_part1.csv: shape (10999999, 4)\nDownloading UI/2025-06-05_190018_UTC/item_properties_part2.csv to UI/2025-06-05_190018_UTC/item_properties_part2.csv ...\nDownloading UI/2025-06-05_190018_UTC/item_properties_part2.csv\nDownloaded UI/2025-06-05_190018_UTC/item_properties_part2.csv, 1 files out of an estimated total of 1\nLoaded UI/2025-06-05_190018_UTC/item_properties_part2.csv: shape (9275903, 4)\nDownloading UI/2025-06-05_190107_UTC/category_tree.csv to UI/2025-06-05_190107_UTC/category_tree.csv ...\nDownloading UI/2025-06-05_190107_UTC/category_tree.csv\nDownloaded UI/2025-06-05_190107_UTC/category_tree.csv, 1 files out of an estimated total of 1\nLoaded UI/2025-06-05_190107_UTC/category_tree.csv: shape (1669, 2)\nevents_df: (2756101, 5)\namazon_df: (2249698, 6)\nitem_properties1_df: (10999999, 4)\nitem_properties2_df: (9275903, 4)\ncategory_tree_df: (1669, 2)\n"
        }
      ],
      "execution_count": 4,
      "metadata": {
        "gather": {
          "logged": 1749160663469
        }
      }
    },
    {
      "cell_type": "code",
      "source": [
        "# Filter for \"view\" events and save a sample of 50,000\n",
        "filtered_events_df = events_df[events_df['event'] == 'view'].head(50000)\n",
        "filtered_events_df.to_csv(\"filtered_events.csv\", index=False)\n",
        "print(\"filtered_events.csv:\", filtered_events_df.shape)\n",
        "print(filtered_events_df.head())\n"
      ],
      "outputs": [
        {
          "output_type": "stream",
          "name": "stdout",
          "text": "filtered_events.csv: (50000, 5)\n       timestamp  visitorid event  itemid  transactionid\n0  1433221332117     257597  view  355908            NaN\n1  1433224214164     992329  view  248676            NaN\n2  1433221999827     111016  view  318965            NaN\n3  1433221955914     483717  view  253185            NaN\n4  1433221337106     951259  view  367447            NaN\n"
        }
      ],
      "execution_count": 5,
      "metadata": {
        "gather": {
          "logged": 1749160811278
        }
      }
    },
    {
      "cell_type": "code",
      "source": [
        "print(\"amazon_df columns:\", amazon_df.columns.tolist())\n",
        "print(amazon_df.head())\n"
      ],
      "outputs": [
        {
          "output_type": "stream",
          "name": "stdout",
          "text": "amazon_df columns: ['PRODUCT_ID', 'TITLE', 'BULLET_POINTS', 'DESCRIPTION', 'PRODUCT_TYPE_ID', 'PRODUCT_LENGTH']\n   PRODUCT_ID                                              TITLE  \\\n0     1925202  ArtzFolio Tulip Flowers Blackout Curtain for D...   \n1     2673191  Marks & Spencer Girls' Pyjama Sets T86_2561C_N...   \n2     2765088  PRIKNIK Horn Red Electric Air Horn Compressor ...   \n3     1594019  ALISHAH Women's Cotton Ankle Length Leggings C...   \n4      283658  The United Empire Loyalists: A Chronicle of th...   \n\n                                       BULLET_POINTS  \\\n0  [LUXURIOUS & APPEALING: Beautiful custom-made ...   \n1  [Harry Potter Hedwig Pyjamas (6-16 Yrs),100% c...   \n2  [Loud Dual Tone Trumpet Horn, Compatible With ...   \n3  [Made By 95%cotton and 5% Lycra which gives yo...   \n4                                                NaN   \n\n                                         DESCRIPTION  PRODUCT_TYPE_ID  \\\n0                                                NaN             1650   \n1                                                NaN             2755   \n2  Specifications: Color: Red, Material: Aluminiu...             7537   \n3  AISHAH Women's Lycra Cotton Ankel Leggings. Br...             2996   \n4                                                NaN             6112   \n\n   PRODUCT_LENGTH  \n0     2125.980000  \n1      393.700000  \n2      748.031495  \n3      787.401574  \n4      598.424000  \n"
        }
      ],
      "execution_count": 6,
      "metadata": {
        "gather": {
          "logged": 1749160834357
        }
      }
    },
    {
      "cell_type": "code",
      "source": [
        "# Filter for products with both title and description\n",
        "filtered_amazon_df = amazon_df[\n",
        "    amazon_df['TITLE'].notnull() & amazon_df['DESCRIPTION'].notnull()\n",
        "].head(1000)\n",
        "\n",
        "filtered_amazon_df.to_csv(\"filtered_amazon_products.csv\", index=False)\n",
        "print(\"filtered_amazon_products.csv:\", filtered_amazon_df.shape)\n",
        "print(filtered_amazon_df[['PRODUCT_ID', 'TITLE', 'DESCRIPTION']].head())\n",
        "print(\"Unique PRODUCT_TYPE_IDs:\", filtered_amazon_df['PRODUCT_TYPE_ID'].unique())\n"
      ],
      "outputs": [
        {
          "output_type": "stream",
          "name": "stdout",
          "text": "filtered_amazon_products.csv: (1000, 6)\n   PRODUCT_ID                                              TITLE  \\\n2     2765088  PRIKNIK Horn Red Electric Air Horn Compressor ...   \n3     1594019  ALISHAH Women's Cotton Ankle Length Leggings C...   \n5     2152929  HINS Metal Bucket Shape Plant Pot for Indoor &...   \n7     2026580  Delavala Self Adhesive Kitchen Backsplash Wall...   \n9     2998633  Hexwell Essential oil for Home Fragrance Oil A...   \n\n                                         DESCRIPTION  \n2  Specifications: Color: Red, Material: Aluminiu...  \n3  AISHAH Women's Lycra Cotton Ankel Leggings. Br...  \n5  HINS Brings you the most Elegant Looking Pot w...  \n7  <p><strong>Aluminum Foil Stickers-good kitchen...  \n9  Transform your home, workplace or hotel room i...  \nUnique PRODUCT_TYPE_IDs: [ 7537  2996  5725  6030  8201 10359  1273   716 12556  1582  3357  2879\n   976  5565  2136  1626  2986  2992  5091  2201  3079  1419  2788 11192\n  1557  2640   646  1725  1252 11395  2213 12680  5988   348   712  3368\n  2197   713  3081  3009   515  4788  7256  2918 10350  2697  2791  3236\n   746   483  2449 10932 12064 12157     5 10187 10276   924  5994 12083\n  1482 12436  1739     0 12641  1346  3878  1641  2211  9701  7497  1672\n  3246  5486  7284  1291  1396  5274  2950 13121  5904  2703  7254 11765\n  2849  2848  1616   301   485 11672  1639   578  1376  2989  1848  1875\n  1383  7332  8490  9927 12058  3047 11209  1283  2798  3465  7488 12057\n  6548  9726  2861  5096  3417  3466  4662  6693  7201  3224  2677  1911\n  5429  3941 13097  8501  2207 11422   115  6540  7550  5154  5983  1147\n  1716  7928  8386  2746  2208  4277  2511  1702  7922  8500 12900  3324\n  1409  2535  1634  8030  8388  7492  3072  2678  3019  3249   230 10405\n  3278   132  2872   378  3300  2911  3364  3243 12973  8346  1426  2974\n  1635  7499 11171  8135  7357 10279  3077  9863  7667  2916  9802  9573\n 12129  1767  3046  3885  1674  6452 10160  6143  3302  5989  1650  1350\n   285  8043  2960   310  8374  3354  5506  2917  1593   350  8046   486\n  1017 10200 10128  8271  6017 10026   367   611  1424  7652  2038  1555\n  1116  2817  8470  3517  3159  3360  1267  1222 10319  5218  2823  9981\n  8385  3242   593  5826    11  2418  2851 12558 10030  3063  5751 12814\n  7073  3225  7554  1032  3291 12260  2847 10398  3297  1349 12425 11284\n  2757  7529  2842  1574  2481  2774  1028  7206  8302  3306  5185  6345\n   123  5417 10059  3247 10331  7457     4 10257  2834  1258  1421  2827\n  7213  2612  3413  8387  1049  1636  1404  1649 12061  1583 10192  3329\n  7340  9951  5632  6527  2367   991  7682  1348  9974  1221 12228  7242\n  3301  3117  1142   694   358  1619  7906  1134  9264   668  3039  2968\n  6859  8389  2039   337 11398     1  3124   952  3015  2796   985   425\n  2206 10304  1701  1238 12729  1263 12912 11639  7539  7731  5367  3367\n  7258  6603  1768  3315  2530  7430  7099  1099  5531  6503  5249  8438\n  5752  5190  1623  7992  3796  2223 11461  1108  6479  8287  2991   899\n  1652  2501   480  3281  7724 12428  2738 12546  1454  4838  1578  8782\n  1485  2835  8284  8184 10162  3746 11464   269   595  7514  2277 10389\n  1474 10561  5480  8493  7095  1795  1432  2801  3152  3295  1590  1002\n  1826  1111  1770  7518   522   245   355  8401  1705  1225   126  3293\n  2891 11212  1627  2740  1622  9822 12896  7630 10243  1566  3299  6426\n  3276  5749  6323 11151  6007  1152 11601  6854 12583  8178  5898  9561\n  2320  5192 10950  2764 11007  1173  3245  3044  3449  6497  3005  5987\n  9762  2943  3365  1815  2946  2878   368 12437  8487  1192  7331  9333\n  2196  3739  5142  3198  7381   599 10159  5991  2967  1542  1149  2859\n  3317  7868  2805  1572  7517     6  1775   143  2880   645  7085  7973\n  1469  7896  8403   837  6316  7706  7282  8805  6438  6727 11645   880\n 10324 11148   326  1289 10308  7379  6935  9801 11295  9559  6016  1729\n  5312 12621  1632  3252  9208  5569   896 10340  3487  1266  2047  2261\n  4686  6380   422  5507  3443   658  2971  5301 10835 12018  5600  3891\n  9566  2767  7069  1620  7964   110 12947  5505 11390  2274  6468  6475\n  1027   314 11267  3075  4171    83  1407  1792  3323  1691  3379  5566\n  4217  8307  6025  6116 11173  1976  1936  2346  7737  1256  7545  5305\n  2915  2852  3965  1975  7754  6482  1683  7607  7893 10541  7585  1459\n  8049  1320  2441  6888  7781   677  5667  3512  9913  4582  2833  7077\n  3091    30]\n"
        }
      ],
      "execution_count": 7,
      "metadata": {
        "gather": {
          "logged": 1749160888652
        }
      }
    },
    {
      "cell_type": "code",
      "source": [
        "# Get the top 1,000 most viewed itemids from filtered_events_df\n",
        "top_items = (\n",
        "    filtered_events_df['itemid']\n",
        "    .value_counts()\n",
        "    .head(1000)\n",
        "    .index\n",
        "    .tolist()\n",
        ")\n",
        "\n",
        "# Map each top RetailRocket itemid to an Amazon PRODUCT_ID\n",
        "amazon_product_ids = filtered_amazon_df['PRODUCT_ID'].tolist()\n",
        "synthetic_mapping = dict(zip(top_items, amazon_product_ids))\n",
        "\n",
        "print(f\"Synthetic mapping created for {len(synthetic_mapping)} items.\")\n",
        "# Example: print first 5 mappings\n",
        "for i, (retail_id, amazon_id) in enumerate(synthetic_mapping.items()):\n",
        "    print(f\"RetailRocket itemid {retail_id} -> Amazon PRODUCT_ID {amazon_id}\")\n",
        "    if i >= 4:\n",
        "        break\n"
      ],
      "outputs": [
        {
          "output_type": "stream",
          "name": "stdout",
          "text": "Synthetic mapping created for 1000 items.\nRetailRocket itemid 370653 -> Amazon PRODUCT_ID 2765088\nRetailRocket itemid 298009 -> Amazon PRODUCT_ID 1594019\nRetailRocket itemid 335975 -> Amazon PRODUCT_ID 2152929\nRetailRocket itemid 315543 -> Amazon PRODUCT_ID 2026580\nRetailRocket itemid 355994 -> Amazon PRODUCT_ID 2998633\n"
        }
      ],
      "execution_count": 8,
      "metadata": {
        "gather": {
          "logged": 1749160930309
        }
      }
    },
    {
      "cell_type": "code",
      "source": [
        "# Build a DataFrame for ad generation\n",
        "import pandas as pd\n",
        "\n",
        "ad_input_df = pd.DataFrame({\n",
        "    'itemid': list(synthetic_mapping.keys()),\n",
        "    'PRODUCT_ID': list(synthetic_mapping.values())\n",
        "})\n",
        "\n",
        "# Merge to get TITLE and DESCRIPTION for each mapped item\n",
        "ad_input_df = ad_input_df.merge(\n",
        "    filtered_amazon_df[['PRODUCT_ID', 'TITLE', 'DESCRIPTION']],\n",
        "    on='PRODUCT_ID',\n",
        "    how='left'\n",
        ")\n",
        "\n",
        "print(ad_input_df.head())\n"
      ],
      "outputs": [
        {
          "output_type": "stream",
          "name": "stdout",
          "text": "   itemid  PRODUCT_ID                                              TITLE  \\\n0  370653     2765088  PRIKNIK Horn Red Electric Air Horn Compressor ...   \n1  298009     1594019  ALISHAH Women's Cotton Ankle Length Leggings C...   \n2  335975     2152929  HINS Metal Bucket Shape Plant Pot for Indoor &...   \n3  315543     2026580  Delavala Self Adhesive Kitchen Backsplash Wall...   \n4  355994     2998633  Hexwell Essential oil for Home Fragrance Oil A...   \n\n                                         DESCRIPTION  \n0  Specifications: Color: Red, Material: Aluminiu...  \n1  AISHAH Women's Lycra Cotton Ankel Leggings. Br...  \n2  HINS Brings you the most Elegant Looking Pot w...  \n3  <p><strong>Aluminum Foil Stickers-good kitchen...  \n4  Transform your home, workplace or hotel room i...  \n"
        }
      ],
      "execution_count": 9,
      "metadata": {
        "gather": {
          "logged": 1749160953935
        }
      }
    },
    {
      "cell_type": "code",
      "source": [
        "# If you haven't already in your environment:\n",
        "!pip install torch transformers\n"
      ],
      "outputs": [
        {
          "output_type": "stream",
          "name": "stdout",
          "text": "Requirement already satisfied: torch in /anaconda/envs/azureml_py38/lib/python3.10/site-packages (2.6.0)\nRequirement already satisfied: transformers in /anaconda/envs/azureml_py38/lib/python3.10/site-packages (4.30.1)\nRequirement already satisfied: nvidia-nvtx-cu12==12.4.127 in /anaconda/envs/azureml_py38/lib/python3.10/site-packages (from torch) (12.4.127)\nRequirement already satisfied: nvidia-cuda-nvrtc-cu12==12.4.127 in /anaconda/envs/azureml_py38/lib/python3.10/site-packages (from torch) (12.4.127)\nRequirement already satisfied: filelock in /anaconda/envs/azureml_py38/lib/python3.10/site-packages (from torch) (3.18.0)\nRequirement already satisfied: triton==3.2.0 in /anaconda/envs/azureml_py38/lib/python3.10/site-packages (from torch) (3.2.0)\nRequirement already satisfied: networkx in /anaconda/envs/azureml_py38/lib/python3.10/site-packages (from torch) (3.4)\nRequirement already satisfied: nvidia-cudnn-cu12==9.1.0.70 in /anaconda/envs/azureml_py38/lib/python3.10/site-packages (from torch) (9.1.0.70)\nRequirement already satisfied: nvidia-cufft-cu12==11.2.1.3 in /anaconda/envs/azureml_py38/lib/python3.10/site-packages (from torch) (11.2.1.3)\nRequirement already satisfied: nvidia-cusparselt-cu12==0.6.2 in /anaconda/envs/azureml_py38/lib/python3.10/site-packages (from torch) (0.6.2)\nRequirement already satisfied: nvidia-cusparse-cu12==12.3.1.170 in /anaconda/envs/azureml_py38/lib/python3.10/site-packages (from torch) (12.3.1.170)\nRequirement already satisfied: fsspec in /anaconda/envs/azureml_py38/lib/python3.10/site-packages (from torch) (2023.10.0)\nRequirement already satisfied: nvidia-cusolver-cu12==11.6.1.9 in /anaconda/envs/azureml_py38/lib/python3.10/site-packages (from torch) (11.6.1.9)\nRequirement already satisfied: nvidia-cuda-runtime-cu12==12.4.127 in /anaconda/envs/azureml_py38/lib/python3.10/site-packages (from torch) (12.4.127)\nRequirement already satisfied: nvidia-nvjitlink-cu12==12.4.127 in /anaconda/envs/azureml_py38/lib/python3.10/site-packages (from torch) (12.4.127)\nRequirement already satisfied: nvidia-cuda-cupti-cu12==12.4.127 in /anaconda/envs/azureml_py38/lib/python3.10/site-packages (from torch) (12.4.127)\nRequirement already satisfied: nvidia-nccl-cu12==2.21.5 in /anaconda/envs/azureml_py38/lib/python3.10/site-packages (from torch) (2.21.5)\nRequirement already satisfied: nvidia-curand-cu12==10.3.5.147 in /anaconda/envs/azureml_py38/lib/python3.10/site-packages (from torch) (10.3.5.147)\nRequirement already satisfied: typing-extensions>=4.10.0 in /anaconda/envs/azureml_py38/lib/python3.10/site-packages (from torch) (4.13.2)\nRequirement already satisfied: nvidia-cublas-cu12==12.4.5.8 in /anaconda/envs/azureml_py38/lib/python3.10/site-packages (from torch) (12.4.5.8)\nRequirement already satisfied: jinja2 in /anaconda/envs/azureml_py38/lib/python3.10/site-packages (from torch) (3.1.6)\nRequirement already satisfied: sympy==1.13.1 in /anaconda/envs/azureml_py38/lib/python3.10/site-packages (from torch) (1.13.1)\nRequirement already satisfied: mpmath<1.4,>=1.1.0 in /anaconda/envs/azureml_py38/lib/python3.10/site-packages (from sympy==1.13.1->torch) (1.3.0)\nRequirement already satisfied: pyyaml>=5.1 in /anaconda/envs/azureml_py38/lib/python3.10/site-packages (from transformers) (6.0.2)\nRequirement already satisfied: tokenizers!=0.11.3,<0.14,>=0.11.1 in /anaconda/envs/azureml_py38/lib/python3.10/site-packages (from transformers) (0.13.3)\nRequirement already satisfied: requests in /anaconda/envs/azureml_py38/lib/python3.10/site-packages (from transformers) (2.32.3)\nRequirement already satisfied: regex!=2019.12.17 in /anaconda/envs/azureml_py38/lib/python3.10/site-packages (from transformers) (2024.11.6)\nRequirement already satisfied: tqdm>=4.27 in /anaconda/envs/azureml_py38/lib/python3.10/site-packages (from transformers) (4.67.1)\nRequirement already satisfied: huggingface-hub<1.0,>=0.14.1 in /anaconda/envs/azureml_py38/lib/python3.10/site-packages (from transformers) (0.30.2)\nRequirement already satisfied: packaging>=20.0 in /anaconda/envs/azureml_py38/lib/python3.10/site-packages (from transformers) (25.0)\nRequirement already satisfied: numpy>=1.17 in /anaconda/envs/azureml_py38/lib/python3.10/site-packages (from transformers) (1.23.5)\nRequirement already satisfied: safetensors>=0.3.1 in /anaconda/envs/azureml_py38/lib/python3.10/site-packages (from transformers) (0.5.3)\nRequirement already satisfied: MarkupSafe>=2.0 in /anaconda/envs/azureml_py38/lib/python3.10/site-packages (from jinja2->torch) (2.0.1)\nRequirement already satisfied: certifi>=2017.4.17 in /anaconda/envs/azureml_py38/lib/python3.10/site-packages (from requests->transformers) (2025.1.31)\nRequirement already satisfied: idna<4,>=2.5 in /anaconda/envs/azureml_py38/lib/python3.10/site-packages (from requests->transformers) (3.10)\nRequirement already satisfied: charset-normalizer<4,>=2 in /anaconda/envs/azureml_py38/lib/python3.10/site-packages (from requests->transformers) (3.4.1)\nRequirement already satisfied: urllib3<3,>=1.21.1 in /anaconda/envs/azureml_py38/lib/python3.10/site-packages (from requests->transformers) (1.26.20)\n"
        }
      ],
      "execution_count": 11,
      "metadata": {
        "gather": {
          "logged": 1749161164356
        }
      }
    },
    {
      "cell_type": "code",
      "source": [
        "import torch\n",
        "from transformers import GPT2Tokenizer, GPT2LMHeadModel, set_seed\n",
        "\n",
        "# Set seed for reproducibility\n",
        "set_seed(42)\n",
        "\n",
        "# Load pre-trained GPT-2 tokenizer and model (PyTorch backend)\n",
        "tokenizer = GPT2Tokenizer.from_pretrained('gpt2')\n",
        "model = GPT2LMHeadModel.from_pretrained('gpt2')\n",
        "model.eval()  # Set model to evaluation mode\n",
        "\n",
        "if torch.cuda.is_available():\n",
        "    model = model.to('cuda')\n",
        "\n",
        "def generate_ad(title, description, max_length=50):\n",
        "    prompt = f\"Product: {title}\\nDescription: {description}\\nAd: \"\n",
        "    inputs = tokenizer.encode(prompt, return_tensors='pt')\n",
        "    if torch.cuda.is_available():\n",
        "        inputs = inputs.to('cuda')\n",
        "    outputs = model.generate(\n",
        "        inputs,\n",
        "        max_length=len(inputs[0]) + max_length,\n",
        "        num_return_sequences=1,\n",
        "        no_repeat_ngram_size=2,\n",
        "        do_sample=True,\n",
        "        top_k=50,\n",
        "        top_p=0.95,\n",
        "        temperature=0.8,\n",
        "        pad_token_id=tokenizer.eos_token_id\n",
        "    )\n",
        "    generated = tokenizer.decode(outputs[0], skip_special_tokens=True)\n",
        "    # Extract only the generated ad text after the prompt\n",
        "    ad_text = generated[len(prompt):].strip()\n",
        "    return ad_text\n",
        "\n",
        "# Example: Generate ads for first 5 items\n",
        "sample = ad_input_df.head(5).copy()\n",
        "sample['ad_text'] = sample.apply(\n",
        "    lambda row: generate_ad(row['TITLE'], row['DESCRIPTION']), axis=1\n",
        ")\n",
        "print(sample[['itemid', 'TITLE', 'ad_text']])\n"
      ],
      "outputs": [
        {
          "output_type": "display_data",
          "data": {
            "text/plain": "tokenizer_config.json:   0%|          | 0.00/26.0 [00:00<?, ?B/s]",
            "application/vnd.jupyter.widget-view+json": {
              "version_major": 2,
              "version_minor": 0,
              "model_id": "4bd6eb74e35246b787a703d31c9272a3"
            }
          },
          "metadata": {}
        },
        {
          "output_type": "display_data",
          "data": {
            "text/plain": "vocab.json:   0%|          | 0.00/1.04M [00:00<?, ?B/s]",
            "application/vnd.jupyter.widget-view+json": {
              "version_major": 2,
              "version_minor": 0,
              "model_id": "5ef4fb9935674925b73a7c15485c30d2"
            }
          },
          "metadata": {}
        },
        {
          "output_type": "display_data",
          "data": {
            "text/plain": "merges.txt:   0%|          | 0.00/456k [00:00<?, ?B/s]",
            "application/vnd.jupyter.widget-view+json": {
              "version_major": 2,
              "version_minor": 0,
              "model_id": "43453706e6b848748dd00f8417e931aa"
            }
          },
          "metadata": {}
        },
        {
          "output_type": "display_data",
          "data": {
            "text/plain": "tokenizer.json:   0%|          | 0.00/1.36M [00:00<?, ?B/s]",
            "application/vnd.jupyter.widget-view+json": {
              "version_major": 2,
              "version_minor": 0,
              "model_id": "9dff55754bcc4de18ffef3ca157785ae"
            }
          },
          "metadata": {}
        },
        {
          "output_type": "display_data",
          "data": {
            "text/plain": "model.safetensors:   0%|          | 0.00/548M [00:00<?, ?B/s]",
            "application/vnd.jupyter.widget-view+json": {
              "version_major": 2,
              "version_minor": 0,
              "model_id": "4488a20c08204872a360755850e98e56"
            }
          },
          "metadata": {}
        },
        {
          "output_type": "display_data",
          "data": {
            "text/plain": "generation_config.json:   0%|          | 0.00/124 [00:00<?, ?B/s]",
            "application/vnd.jupyter.widget-view+json": {
              "version_major": 2,
              "version_minor": 0,
              "model_id": "381b563e2d01436387fd257c85d2c43e"
            }
          },
          "metadata": {}
        },
        {
          "output_type": "stream",
          "name": "stderr",
          "text": "The attention mask is not set and cannot be inferred from input because pad token is same as eos token. As a consequence, you may observe unexpected behavior. Please pass your input's `attention_mask` to obtain reliable results.\n"
        },
        {
          "output_type": "stream",
          "name": "stdout",
          "text": "   itemid                                              TITLE  \\\n0  370653  PRIKNIK Horn Red Electric Air Horn Compressor ...   \n1  298009  ALISHAH Women's Cotton Ankle Length Leggings C...   \n2  335975  HINS Metal Bucket Shape Plant Pot for Indoor &...   \n3  315543  Delavala Self Adhesive Kitchen Backsplash Wall...   \n4  355994  Hexwell Essential oil for Home Fragrance Oil A...   \n\n                                             ad_text  \n0  ___________\\n(Note: This product is a complete...  \n1  © 2014 B&H. All Rights Reserved.\\nCopyright © ...  \n2  www.hins.co.uk/ad/products/colours/Plant-Stand...  \n3  ______________\\nBrand: delavallive\\n\\nProduct ...  \n4  Charmo, Naturals, Pomegranate, Chamomile, Viol...  \n"
        }
      ],
      "execution_count": 12,
      "metadata": {
        "gather": {
          "logged": 1749161192165
        }
      }
    },
    {
      "cell_type": "code",
      "source": [],
      "outputs": [],
      "execution_count": null,
      "metadata": {}
    }
  ],
  "metadata": {
    "kernelspec": {
      "name": "python38-azureml-pt-tf",
      "language": "python",
      "display_name": "Python 3.10 - Pytorch and Tensorflow"
    },
    "language_info": {
      "name": "python",
      "version": "3.10.16",
      "mimetype": "text/x-python",
      "codemirror_mode": {
        "name": "ipython",
        "version": 3
      },
      "pygments_lexer": "ipython3",
      "nbconvert_exporter": "python",
      "file_extension": ".py"
    },
    "microsoft": {
      "ms_spell_check": {
        "ms_spell_check_language": "en"
      },
      "host": {
        "AzureML": {
          "notebookHasBeenCompleted": true
        }
      }
    },
    "kernel_info": {
      "name": "python38-azureml-pt-tf"
    },
    "nteract": {
      "version": "nteract-front-end@1.0.0"
    }
  },
  "nbformat": 4,
  "nbformat_minor": 2
}