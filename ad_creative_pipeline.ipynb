{
  "cells": [
    {
      "cell_type": "markdown",
      "source": [
        "**Install Required Libraries**"
      ],
      "metadata": {
        "nteract": {
          "transient": {
            "deleting": false
          }
        }
      }
    },
    {
      "cell_type": "code",
      "source": [
        "# Install required libraries\n",
        "import sys\n",
        "import subprocess\n",
        "import os\n",
        "\n",
        "# Disable GPU to suppress CUDA errors\n",
        "os.environ[\"CUDA_VISIBLE_DEVICES\"] = \"\"\n",
        "\n",
        "# List of libraries to install\n",
        "libraries = [\n",
        "    \"transformers==4.46.0\",  # DistilBERT\n",
        "    \"torch\",                # PyTorch\n",
        "    \"pandas\",               # Data manipulation\n",
        "    \"scipy\",                # A/B testing\n",
        "    \"azureml-core\"          # Azure ML workspace\n",
        "]\n",
        "\n",
        "# Install libraries\n",
        "for lib in libraries:\n",
        "    try:\n",
        "        subprocess.check_call([sys.executable, \"-m\", \"pip\", \"install\", lib])\n",
        "        print(f\"Successfully installed {lib}\")\n",
        "    except subprocess.CalledProcessError as e:\n",
        "        print(f\"Error installing {lib}: {e}\")\n",
        "        raise\n",
        "\n",
        "# Verify installations\n",
        "try:\n",
        "    import transformers\n",
        "    import torch\n",
        "    import pandas\n",
        "    import scipy\n",
        "    import azureml.core\n",
        "    print(\"Transformers version:\", transformers.__version__)\n",
        "    print(\"PyTorch version:\", torch.__version__)\n",
        "    print(\"Pandas version:\", pandas.__version__)\n",
        "    print(\"Scipy version:\", scipy.__version__)\n",
        "    print(\"AzureML Core version:\", azureml.core.__version__)\n",
        "    print(\"Python executable:\", sys.executable)\n",
        "except ImportError as e:\n",
        "    print(f\"Import error: {e}\")\n",
        "    raise"
      ],
      "outputs": [
        {
          "output_type": "stream",
          "name": "stdout",
          "text": "Requirement already satisfied: transformers==4.46.0 in /anaconda/envs/azureml_py38_PT_TF/lib/python3.10/site-packages (4.46.0)\nRequirement already satisfied: filelock in /anaconda/envs/azureml_py38_PT_TF/lib/python3.10/site-packages (from transformers==4.46.0) (3.18.0)\nRequirement already satisfied: huggingface-hub<1.0,>=0.23.2 in /anaconda/envs/azureml_py38_PT_TF/lib/python3.10/site-packages (from transformers==4.46.0) (0.32.3)\nRequirement already satisfied: numpy>=1.17 in /anaconda/envs/azureml_py38_PT_TF/lib/python3.10/site-packages (from transformers==4.46.0) (2.1.3)\nRequirement already satisfied: packaging>=20.0 in /anaconda/envs/azureml_py38_PT_TF/lib/python3.10/site-packages (from transformers==4.46.0) (24.2)\nRequirement already satisfied: pyyaml>=5.1 in /anaconda/envs/azureml_py38_PT_TF/lib/python3.10/site-packages (from transformers==4.46.0) (6.0.2)\nRequirement already satisfied: regex!=2019.12.17 in /anaconda/envs/azureml_py38_PT_TF/lib/python3.10/site-packages (from transformers==4.46.0) (2024.11.6)\nRequirement already satisfied: requests in /anaconda/envs/azureml_py38_PT_TF/lib/python3.10/site-packages (from transformers==4.46.0) (2.32.3)\nRequirement already satisfied: safetensors>=0.4.1 in /anaconda/envs/azureml_py38_PT_TF/lib/python3.10/site-packages (from transformers==4.46.0) (0.5.3)\nRequirement already satisfied: tokenizers<0.21,>=0.20 in /anaconda/envs/azureml_py38_PT_TF/lib/python3.10/site-packages (from transformers==4.46.0) (0.20.3)\nRequirement already satisfied: tqdm>=4.27 in /anaconda/envs/azureml_py38_PT_TF/lib/python3.10/site-packages (from transformers==4.46.0) (4.67.1)\nRequirement already satisfied: fsspec>=2023.5.0 in /anaconda/envs/azureml_py38_PT_TF/lib/python3.10/site-packages (from huggingface-hub<1.0,>=0.23.2->transformers==4.46.0) (2025.3.2)\nRequirement already satisfied: typing-extensions>=3.7.4.3 in /anaconda/envs/azureml_py38_PT_TF/lib/python3.10/site-packages (from huggingface-hub<1.0,>=0.23.2->transformers==4.46.0) (4.13.2)\nRequirement already satisfied: hf-xet<2.0.0,>=1.1.2 in /anaconda/envs/azureml_py38_PT_TF/lib/python3.10/site-packages (from huggingface-hub<1.0,>=0.23.2->transformers==4.46.0) (1.1.2)\nRequirement already satisfied: charset-normalizer<4,>=2 in /anaconda/envs/azureml_py38_PT_TF/lib/python3.10/site-packages (from requests->transformers==4.46.0) (3.4.1)\nRequirement already satisfied: idna<4,>=2.5 in /anaconda/envs/azureml_py38_PT_TF/lib/python3.10/site-packages (from requests->transformers==4.46.0) (3.10)\nRequirement already satisfied: urllib3<3,>=1.21.1 in /anaconda/envs/azureml_py38_PT_TF/lib/python3.10/site-packages (from requests->transformers==4.46.0) (2.4.0)\nRequirement already satisfied: certifi>=2017.4.17 in /anaconda/envs/azureml_py38_PT_TF/lib/python3.10/site-packages (from requests->transformers==4.46.0) (2025.1.31)\nSuccessfully installed transformers==4.46.0\nRequirement already satisfied: torch in /anaconda/envs/azureml_py38_PT_TF/lib/python3.10/site-packages (2.6.0)\nRequirement already satisfied: filelock in /anaconda/envs/azureml_py38_PT_TF/lib/python3.10/site-packages (from torch) (3.18.0)\nRequirement already satisfied: typing-extensions>=4.10.0 in /anaconda/envs/azureml_py38_PT_TF/lib/python3.10/site-packages (from torch) (4.13.2)\nRequirement already satisfied: networkx in /anaconda/envs/azureml_py38_PT_TF/lib/python3.10/site-packages (from torch) (3.4.2)\nRequirement already satisfied: jinja2 in /anaconda/envs/azureml_py38_PT_TF/lib/python3.10/site-packages (from torch) (3.1.6)\nRequirement already satisfied: fsspec in /anaconda/envs/azureml_py38_PT_TF/lib/python3.10/site-packages (from torch) (2025.3.2)\nRequirement already satisfied: nvidia-cuda-nvrtc-cu12==12.4.127 in /anaconda/envs/azureml_py38_PT_TF/lib/python3.10/site-packages (from torch) (12.4.127)\nRequirement already satisfied: nvidia-cuda-runtime-cu12==12.4.127 in /anaconda/envs/azureml_py38_PT_TF/lib/python3.10/site-packages (from torch) (12.4.127)\nRequirement already satisfied: nvidia-cuda-cupti-cu12==12.4.127 in /anaconda/envs/azureml_py38_PT_TF/lib/python3.10/site-packages (from torch) (12.4.127)\nRequirement already satisfied: nvidia-cudnn-cu12==9.1.0.70 in /anaconda/envs/azureml_py38_PT_TF/lib/python3.10/site-packages (from torch) (9.1.0.70)\nRequirement already satisfied: nvidia-cublas-cu12==12.4.5.8 in /anaconda/envs/azureml_py38_PT_TF/lib/python3.10/site-packages (from torch) (12.4.5.8)\nRequirement already satisfied: nvidia-cufft-cu12==11.2.1.3 in /anaconda/envs/azureml_py38_PT_TF/lib/python3.10/site-packages (from torch) (11.2.1.3)\nRequirement already satisfied: nvidia-curand-cu12==10.3.5.147 in /anaconda/envs/azureml_py38_PT_TF/lib/python3.10/site-packages (from torch) (10.3.5.147)\nRequirement already satisfied: nvidia-cusolver-cu12==11.6.1.9 in /anaconda/envs/azureml_py38_PT_TF/lib/python3.10/site-packages (from torch) (11.6.1.9)\nRequirement already satisfied: nvidia-cusparse-cu12==12.3.1.170 in /anaconda/envs/azureml_py38_PT_TF/lib/python3.10/site-packages (from torch) (12.3.1.170)\nRequirement already satisfied: nvidia-cusparselt-cu12==0.6.2 in /anaconda/envs/azureml_py38_PT_TF/lib/python3.10/site-packages (from torch) (0.6.2)\nRequirement already satisfied: nvidia-nccl-cu12==2.21.5 in /anaconda/envs/azureml_py38_PT_TF/lib/python3.10/site-packages (from torch) (2.21.5)\nRequirement already satisfied: nvidia-nvtx-cu12==12.4.127 in /anaconda/envs/azureml_py38_PT_TF/lib/python3.10/site-packages (from torch) (12.4.127)\nRequirement already satisfied: nvidia-nvjitlink-cu12==12.4.127 in /anaconda/envs/azureml_py38_PT_TF/lib/python3.10/site-packages (from torch) (12.4.127)\nRequirement already satisfied: triton==3.2.0 in /anaconda/envs/azureml_py38_PT_TF/lib/python3.10/site-packages (from torch) (3.2.0)\nRequirement already satisfied: sympy==1.13.1 in /anaconda/envs/azureml_py38_PT_TF/lib/python3.10/site-packages (from torch) (1.13.1)\nRequirement already satisfied: mpmath<1.4,>=1.1.0 in /anaconda/envs/azureml_py38_PT_TF/lib/python3.10/site-packages (from sympy==1.13.1->torch) (1.3.0)\nRequirement already satisfied: MarkupSafe>=2.0 in /anaconda/envs/azureml_py38_PT_TF/lib/python3.10/site-packages (from jinja2->torch) (3.0.2)\nSuccessfully installed torch\nRequirement already satisfied: pandas in /anaconda/envs/azureml_py38_PT_TF/lib/python3.10/site-packages (2.2.3)\nRequirement already satisfied: numpy>=1.22.4 in /anaconda/envs/azureml_py38_PT_TF/lib/python3.10/site-packages (from pandas) (2.1.3)\nRequirement already satisfied: python-dateutil>=2.8.2 in /anaconda/envs/azureml_py38_PT_TF/lib/python3.10/site-packages (from pandas) (2.9.0.post0)\nRequirement already satisfied: pytz>=2020.1 in /anaconda/envs/azureml_py38_PT_TF/lib/python3.10/site-packages (from pandas) (2025.2)\nRequirement already satisfied: tzdata>=2022.7 in /anaconda/envs/azureml_py38_PT_TF/lib/python3.10/site-packages (from pandas) (2025.2)\nRequirement already satisfied: six>=1.5 in /anaconda/envs/azureml_py38_PT_TF/lib/python3.10/site-packages (from python-dateutil>=2.8.2->pandas) (1.17.0)\nSuccessfully installed pandas\nRequirement already satisfied: scipy in /anaconda/envs/azureml_py38_PT_TF/lib/python3.10/site-packages (1.15.2)\nRequirement already satisfied: numpy<2.5,>=1.23.5 in /anaconda/envs/azureml_py38_PT_TF/lib/python3.10/site-packages (from scipy) (2.1.3)\nSuccessfully installed scipy\nRequirement already satisfied: azureml-core in /anaconda/envs/azureml_py38_PT_TF/lib/python3.10/site-packages (1.60.0)\nRequirement already satisfied: pytz in /anaconda/envs/azureml_py38_PT_TF/lib/python3.10/site-packages (from azureml-core) (2025.2)\nRequirement already satisfied: backports.tempfile in /anaconda/envs/azureml_py38_PT_TF/lib/python3.10/site-packages (from azureml-core) (1.0)\nRequirement already satisfied: pathspec<1.0.0 in /anaconda/envs/azureml_py38_PT_TF/lib/python3.10/site-packages (from azureml-core) (0.12.1)\nRequirement already satisfied: requests<3.0.0,>=2.19.1 in /anaconda/envs/azureml_py38_PT_TF/lib/python3.10/site-packages (from requests[socks]<3.0.0,>=2.19.1->azureml-core) (2.32.3)\nRequirement already satisfied: msal<2.0.0,>=1.15.0 in /anaconda/envs/azureml_py38_PT_TF/lib/python3.10/site-packages (from azureml-core) (1.32.0)\nRequirement already satisfied: msal-extensions<=2.0.0,>=0.3.0 in /anaconda/envs/azureml_py38_PT_TF/lib/python3.10/site-packages (from azureml-core) (1.3.1)\nRequirement already satisfied: knack<0.13.0 in /anaconda/envs/azureml_py38_PT_TF/lib/python3.10/site-packages (from azureml-core) (0.12.0)\nRequirement already satisfied: azure-core<2.0.0 in /anaconda/envs/azureml_py38_PT_TF/lib/python3.10/site-packages (from azureml-core) (1.33.0)\nRequirement already satisfied: pkginfo in /anaconda/envs/azureml_py38_PT_TF/lib/python3.10/site-packages (from azureml-core) (1.12.1.2)\nRequirement already satisfied: argcomplete<4 in /anaconda/envs/azureml_py38_PT_TF/lib/python3.10/site-packages (from azureml-core) (3.6.2)\nRequirement already satisfied: humanfriendly<11.0,>=4.7 in /anaconda/envs/azureml_py38_PT_TF/lib/python3.10/site-packages (from azureml-core) (10.0)\nRequirement already satisfied: paramiko<4.0.0,>=2.0.8 in /anaconda/envs/azureml_py38_PT_TF/lib/python3.10/site-packages (from azureml-core) (3.5.1)\nRequirement already satisfied: azure-mgmt-resource<=24.0.0,>=15.0.0 in /anaconda/envs/azureml_py38_PT_TF/lib/python3.10/site-packages (from azureml-core) (23.3.0)\nRequirement already satisfied: azure-mgmt-containerregistry<11,>=8.2.0 in /anaconda/envs/azureml_py38_PT_TF/lib/python3.10/site-packages (from azureml-core) (10.3.0)\nRequirement already satisfied: azure-mgmt-storage<=23.0.0,>=16.0.0 in /anaconda/envs/azureml_py38_PT_TF/lib/python3.10/site-packages (from azureml-core) (22.2.0)\nRequirement already satisfied: azure-mgmt-keyvault<11.0.0,>=0.40.0 in /anaconda/envs/azureml_py38_PT_TF/lib/python3.10/site-packages (from azureml-core) (10.3.1)\nRequirement already satisfied: azure-mgmt-authorization<5,>=0.40.0 in /anaconda/envs/azureml_py38_PT_TF/lib/python3.10/site-packages (from azureml-core) (4.0.0)\nRequirement already satisfied: azure-mgmt-network<=29.0.0 in /anaconda/envs/azureml_py38_PT_TF/lib/python3.10/site-packages (from azureml-core) (28.1.0)\nRequirement already satisfied: azure-graphrbac<1.0.0,>=0.40.0 in /anaconda/envs/azureml_py38_PT_TF/lib/python3.10/site-packages (from azureml-core) (0.61.2)\nRequirement already satisfied: azure-common<2.0.0,>=1.1.12 in /anaconda/envs/azureml_py38_PT_TF/lib/python3.10/site-packages (from azureml-core) (1.1.28)\nRequirement already satisfied: msrest<=0.7.1,>=0.5.1 in /anaconda/envs/azureml_py38_PT_TF/lib/python3.10/site-packages (from azureml-core) (0.7.1)\nRequirement already satisfied: msrestazure<=0.7,>=0.4.33 in /anaconda/envs/azureml_py38_PT_TF/lib/python3.10/site-packages (from azureml-core) (0.6.4.post1)\nRequirement already satisfied: urllib3<3.0.0,>1.26.17 in /anaconda/envs/azureml_py38_PT_TF/lib/python3.10/site-packages (from azureml-core) (2.4.0)\nRequirement already satisfied: packaging<=25.0,>=20.0 in /anaconda/envs/azureml_py38_PT_TF/lib/python3.10/site-packages (from azureml-core) (24.2)\nRequirement already satisfied: python-dateutil<3.0.0,>=2.7.3 in /anaconda/envs/azureml_py38_PT_TF/lib/python3.10/site-packages (from azureml-core) (2.9.0.post0)\nRequirement already satisfied: ndg-httpsclient<=0.5.1 in /anaconda/envs/azureml_py38_PT_TF/lib/python3.10/site-packages (from azureml-core) (0.5.1)\nRequirement already satisfied: SecretStorage<4.0.0 in /anaconda/envs/azureml_py38_PT_TF/lib/python3.10/site-packages (from azureml-core) (3.3.3)\nRequirement already satisfied: jsonpickle<5.0.0 in /anaconda/envs/azureml_py38_PT_TF/lib/python3.10/site-packages (from azureml-core) (4.0.5)\nRequirement already satisfied: contextlib2<22.0.0 in /anaconda/envs/azureml_py38_PT_TF/lib/python3.10/site-packages (from azureml-core) (21.6.0)\nRequirement already satisfied: docker<8.0.0 in /anaconda/envs/azureml_py38_PT_TF/lib/python3.10/site-packages (from azureml-core) (7.1.0)\nRequirement already satisfied: PyJWT<3.0.0 in /anaconda/envs/azureml_py38_PT_TF/lib/python3.10/site-packages (from azureml-core) (2.10.1)\nRequirement already satisfied: adal<=1.2.7,>=1.2.0 in /anaconda/envs/azureml_py38_PT_TF/lib/python3.10/site-packages (from azureml-core) (1.2.7)\nRequirement already satisfied: pyopenssl<26.0.0 in /anaconda/envs/azureml_py38_PT_TF/lib/python3.10/site-packages (from azureml-core) (25.0.0)\nRequirement already satisfied: jmespath<2.0.0 in /anaconda/envs/azureml_py38_PT_TF/lib/python3.10/site-packages (from azureml-core) (1.0.1)\nRequirement already satisfied: cryptography>=1.1.0 in /anaconda/envs/azureml_py38_PT_TF/lib/python3.10/site-packages (from adal<=1.2.7,>=1.2.0->azureml-core) (44.0.2)\nRequirement already satisfied: six>=1.11.0 in /anaconda/envs/azureml_py38_PT_TF/lib/python3.10/site-packages (from azure-core<2.0.0->azureml-core) (1.17.0)\nRequirement already satisfied: typing-extensions>=4.6.0 in /anaconda/envs/azureml_py38_PT_TF/lib/python3.10/site-packages (from azure-core<2.0.0->azureml-core) (4.13.2)\nRequirement already satisfied: isodate<1.0.0,>=0.6.1 in /anaconda/envs/azureml_py38_PT_TF/lib/python3.10/site-packages (from azure-mgmt-authorization<5,>=0.40.0->azureml-core) (0.7.2)\nRequirement already satisfied: azure-mgmt-core<2.0.0,>=1.3.2 in /anaconda/envs/azureml_py38_PT_TF/lib/python3.10/site-packages (from azure-mgmt-authorization<5,>=0.40.0->azureml-core) (1.5.0)\nRequirement already satisfied: pygments in /anaconda/envs/azureml_py38_PT_TF/lib/python3.10/site-packages (from knack<0.13.0->azureml-core) (2.19.1)\nRequirement already satisfied: pyyaml in /anaconda/envs/azureml_py38_PT_TF/lib/python3.10/site-packages (from knack<0.13.0->azureml-core) (6.0.2)\nRequirement already satisfied: tabulate in /anaconda/envs/azureml_py38_PT_TF/lib/python3.10/site-packages (from knack<0.13.0->azureml-core) (0.9.0)\nRequirement already satisfied: certifi>=2017.4.17 in /anaconda/envs/azureml_py38_PT_TF/lib/python3.10/site-packages (from msrest<=0.7.1,>=0.5.1->azureml-core) (2025.1.31)\nRequirement already satisfied: requests-oauthlib>=0.5.0 in /anaconda/envs/azureml_py38_PT_TF/lib/python3.10/site-packages (from msrest<=0.7.1,>=0.5.1->azureml-core) (2.0.0)\nRequirement already satisfied: pyasn1>=0.1.1 in /anaconda/envs/azureml_py38_PT_TF/lib/python3.10/site-packages (from ndg-httpsclient<=0.5.1->azureml-core) (0.6.1)\nRequirement already satisfied: bcrypt>=3.2 in /anaconda/envs/azureml_py38_PT_TF/lib/python3.10/site-packages (from paramiko<4.0.0,>=2.0.8->azureml-core) (4.3.0)\nRequirement already satisfied: pynacl>=1.5 in /anaconda/envs/azureml_py38_PT_TF/lib/python3.10/site-packages (from paramiko<4.0.0,>=2.0.8->azureml-core) (1.5.0)\nRequirement already satisfied: charset-normalizer<4,>=2 in /anaconda/envs/azureml_py38_PT_TF/lib/python3.10/site-packages (from requests<3.0.0,>=2.19.1->requests[socks]<3.0.0,>=2.19.1->azureml-core) (3.4.1)\nRequirement already satisfied: idna<4,>=2.5 in /anaconda/envs/azureml_py38_PT_TF/lib/python3.10/site-packages (from requests<3.0.0,>=2.19.1->requests[socks]<3.0.0,>=2.19.1->azureml-core) (3.10)\nRequirement already satisfied: PySocks!=1.5.7,>=1.5.6 in /anaconda/envs/azureml_py38_PT_TF/lib/python3.10/site-packages (from requests[socks]<3.0.0,>=2.19.1->azureml-core) (1.7.1)\nRequirement already satisfied: jeepney>=0.6 in /anaconda/envs/azureml_py38_PT_TF/lib/python3.10/site-packages (from SecretStorage<4.0.0->azureml-core) (0.9.0)\nRequirement already satisfied: backports.weakref in /anaconda/envs/azureml_py38_PT_TF/lib/python3.10/site-packages (from backports.tempfile->azureml-core) (1.0.post1)\nRequirement already satisfied: cffi>=1.12 in /anaconda/envs/azureml_py38_PT_TF/lib/python3.10/site-packages (from cryptography>=1.1.0->adal<=1.2.7,>=1.2.0->azureml-core) (1.17.1)\nRequirement already satisfied: oauthlib>=3.0.0 in /anaconda/envs/azureml_py38_PT_TF/lib/python3.10/site-packages (from requests-oauthlib>=0.5.0->msrest<=0.7.1,>=0.5.1->azureml-core) (3.2.2)\nRequirement already satisfied: pycparser in /anaconda/envs/azureml_py38_PT_TF/lib/python3.10/site-packages (from cffi>=1.12->cryptography>=1.1.0->adal<=1.2.7,>=1.2.0->azureml-core) (2.22)\nTransformers version: 4.46.0\nPyTorch version: 2.6.0+cu124\nPandas version: 2.2.3\nScipy version: 1.15.2\nAzureML Core version: 1.60.0\nPython executable: /anaconda/envs/azureml_py38_PT_TF/bin/python\n"
        },
        {
          "output_type": "stream",
          "name": "stderr",
          "text": "/anaconda/envs/azureml_py38_PT_TF/lib/python3.10/site-packages/tqdm/auto.py:21: TqdmWarning: IProgress not found. Please update jupyter and ipywidgets. See https://ipywidgets.readthedocs.io/en/stable/user_install.html\n  from .autonotebook import tqdm as notebook_tqdm\n"
        }
      ],
      "execution_count": 1,
      "metadata": {
        "gather": {
          "logged": 1748730106300
        }
      }
    },
    {
      "cell_type": "markdown",
      "source": [
        "**Load Dataset from Datastore**"
      ],
      "metadata": {
        "nteract": {
          "transient": {
            "deleting": false
          }
        }
      }
    },
    {
      "cell_type": "code",
      "source": [
        "# Load dataset from datastore\n",
        "from azureml.core import Workspace, Datastore\n",
        "import pandas as pd\n",
        "\n",
        "# Set random seed for reproducibility\n",
        "import numpy as np\n",
        "np.random.seed(42)\n",
        "\n",
        "# Connect to workspace\n",
        "try:\n",
        "    ws = Workspace.from_config()\n",
        "    print(\"Connected to workspace:\", ws.name)\n",
        "except Exception as e:\n",
        "    print(f\"Error connecting to workspace: {e}\")\n",
        "    raise\n",
        "\n",
        "# Access default datastore\n",
        "datastore = ws.get_default_datastore()\n",
        "datastore_path = \"UI/2025-05-31_184443_UTC/events.csv\"\n",
        "\n",
        "# Download dataset\n",
        "try:\n",
        "    datastore.download(target_path=\".\", prefix=datastore_path, overwrite=True)\n",
        "    print(\"Downloaded events.csv\")\n",
        "except Exception as e:\n",
        "    print(f\"Error downloading dataset: {e}\")\n",
        "    raise\n",
        "\n",
        "# Load into DataFrame\n",
        "file_path = \"UI/2025-05-31_184443_UTC/events.csv\"\n",
        "try:\n",
        "    retailrocket_data = pd.read_csv(file_path)\n",
        "    print(\"Dataset loaded successfully\")\n",
        "except Exception as e:\n",
        "    print(f\"Error loading dataset: {e}\")\n",
        "    raise\n",
        "\n",
        "# Verify dataset\n",
        "print(\"Dataset shape:\", retailrocket_data.shape)\n",
        "print(\"Columns:\", retailrocket_data.columns.tolist())\n",
        "print(\"First 5 rows:\\n\", retailrocket_data.head())"
      ],
      "outputs": [
        {
          "output_type": "stream",
          "name": "stdout",
          "text": "Connected to workspace: pbhavani-mlworkspace\nDownloading UI/2025-05-31_184443_UTC/events.csv\nDownloaded UI/2025-05-31_184443_UTC/events.csv, 1 files out of an estimated total of 1\nDownloaded events.csv\nDataset loaded successfully\nDataset shape: (2756101, 5)\nColumns: ['timestamp', 'visitorid', 'event', 'itemid', 'transactionid']\nFirst 5 rows:\n        timestamp  visitorid event  itemid  transactionid\n0  1433221332117     257597  view  355908            NaN\n1  1433224214164     992329  view  248676            NaN\n2  1433221999827     111016  view  318965            NaN\n3  1433221955914     483717  view  253185            NaN\n4  1433221337106     951259  view  367447            NaN\n"
        }
      ],
      "execution_count": 2,
      "metadata": {
        "gather": {
          "logged": 1748730127386
        }
      }
    },
    {
      "cell_type": "markdown",
      "source": [
        "**Preprocess the Dataset**"
      ],
      "metadata": {
        "nteract": {
          "transient": {
            "deleting": false
          }
        }
      }
    },
    {
      "cell_type": "code",
      "source": [
        "# Preprocess dataset\n",
        "import numpy as np\n",
        "np.random.seed(42)  # Ensure reproducibility\n",
        "\n",
        "# Filter view events and select columns\n",
        "filtered_data = retailrocket_data[retailrocket_data[\"event\"] == \"view\"][[\"visitorid\", \"itemid\", \"timestamp\"]]\n",
        "\n",
        "# Remove missing values\n",
        "filtered_data = filtered_data.dropna()\n",
        "\n",
        "# Create subset of 50,000 records\n",
        "subset_data = filtered_data.head(50000).copy()\n",
        "\n",
        "# Verify preprocessing\n",
        "print(\"Unique event types in original data:\", retailrocket_data[\"event\"].unique())\n",
        "print(\"Subset shape:\", subset_data.shape)\n",
        "print(\"Subset columns:\", subset_data.columns.tolist())\n",
        "print(\"First 5 rows of subset:\\n\", subset_data.head())"
      ],
      "outputs": [
        {
          "output_type": "stream",
          "name": "stdout",
          "text": "Unique event types in original data: ['view' 'addtocart' 'transaction']\nSubset shape: (50000, 3)\nSubset columns: ['visitorid', 'itemid', 'timestamp']\nFirst 5 rows of subset:\n    visitorid  itemid      timestamp\n0     257597  355908  1433221332117\n1     992329  248676  1433224214164\n2     111016  318965  1433221999827\n3     483717  253185  1433221955914\n4     951259  367447  1433221337106\n"
        }
      ],
      "execution_count": 3,
      "metadata": {
        "gather": {
          "logged": 1748730134553
        }
      }
    },
    {
      "cell_type": "markdown",
      "source": [
        "**Create Synthetic Ad Text**"
      ],
      "metadata": {
        "nteract": {
          "transient": {
            "deleting": false
          }
        }
      }
    },
    {
      "cell_type": "code",
      "source": [
        "# Create synthetic ad text\n",
        "import numpy as np\n",
        "np.random.seed(42)  # Ensure reproducibility\n",
        "\n",
        "# Add ad_text column\n",
        "subset_data[\"ad_text\"] = subset_data[\"itemid\"].apply(lambda x: f\"Discover item {x} now!\")\n",
        "\n",
        "# Select 5,000 records for training\n",
        "train_data = subset_data[[\"ad_text\"]].head(5000)\n",
        "\n",
        "# Save to CSV\n",
        "train_data.to_csv(\"train_ad_text.csv\", index=False)\n",
        "\n",
        "# Verify training data\n",
        "print(\"Training data shape:\", train_data.shape)\n",
        "print(\"Training columns:\", train_data.columns.tolist())\n",
        "print(\"First 5 rows of training data:\\n\", train_data.head())\n",
        "print(\"\\nSaved as train_ad_text.csv\")"
      ],
      "outputs": [
        {
          "output_type": "stream",
          "name": "stdout",
          "text": "Training data shape: (5000, 1)\nTraining columns: ['ad_text']\nFirst 5 rows of training data:\n                      ad_text\n0  Discover item 355908 now!\n1  Discover item 248676 now!\n2  Discover item 318965 now!\n3  Discover item 253185 now!\n4  Discover item 367447 now!\n\nSaved as train_ad_text.csv\n"
        }
      ],
      "execution_count": 4,
      "metadata": {
        "gather": {
          "logged": 1748730144799
        }
      }
    },
    {
      "cell_type": "markdown",
      "source": [
        "**Run DistilBERT Test Forward Pass**"
      ],
      "metadata": {
        "nteract": {
          "transient": {
            "deleting": false
          }
        }
      }
    },
    {
      "cell_type": "code",
      "source": [
        "# Run DistilBERT test forward pass\n",
        "import torch\n",
        "from transformers import DistilBertTokenizer, DistilBertForSequenceClassification\n",
        "\n",
        "# Set seeds for reproducibility\n",
        "import numpy as np\n",
        "np.random.seed(42)\n",
        "torch.manual_seed(42)\n",
        "\n",
        "# Load training data\n",
        "try:\n",
        "    train_data = pd.read_csv(\"train_ad_text.csv\").head(100)\n",
        "    print(\"Loaded train_ad_text.csv\")\n",
        "except Exception as e:\n",
        "    print(f\"Error loading train_ad_text.csv: {e}\")\n",
        "    raise\n",
        "\n",
        "# Initialize tokenizer and model\n",
        "try:\n",
        "    tokenizer = DistilBertTokenizer.from_pretrained(\"distilbert-base-uncased\")\n",
        "    model = DistilBertForSequenceClassification.from_pretrained(\"distilbert-base-uncased\")\n",
        "    print(\"Initialized DistilBERT tokenizer and model\")\n",
        "except Exception as e:\n",
        "    print(f\"Error initializing DistilBERT: {e}\")\n",
        "    raise\n",
        "\n",
        "# Sample ad texts\n",
        "texts = train_data[\"ad_text\"].tolist()\n",
        "\n",
        "# Tokenize texts\n",
        "inputs = tokenizer(texts, return_tensors=\"pt\", padding=True, truncation=True, max_length=32)\n",
        "\n",
        "# Dummy labels (binary: 1 for positive)\n",
        "labels = torch.ones(len(texts), dtype=torch.long)\n",
        "\n",
        "# Use CPU explicitly\n",
        "device = torch.device(\"cpu\")\n",
        "print(\"Using device:\", device)\n",
        "model.to(device)\n",
        "inputs = {k: v.to(device) for k, v in inputs.items()}\n",
        "labels = labels.to(device)\n",
        "\n",
        "# Forward pass\n",
        "try:\n",
        "    outputs = model(**inputs, labels=labels)\n",
        "    loss = outputs.loss\n",
        "    print(f\"Initial loss: {loss.item()}\")\n",
        "except Exception as e:\n",
        "    print(f\"Error during forward pass: {e}\")\n",
        "    raise\n",
        "\n",
        "# Clear memory\n",
        "del model, inputs, labels"
      ],
      "outputs": [
        {
          "output_type": "stream",
          "name": "stderr",
          "text": "2025-05-31 22:22:39.951192: E external/local_xla/xla/stream_executor/cuda/cuda_fft.cc:467] Unable to register cuFFT factory: Attempting to register factory for plugin cuFFT when one has already been registered\nWARNING: All log messages before absl::InitializeLog() is called are written to STDERR\nE0000 00:00:1748730159.968554   11214 cuda_dnn.cc:8579] Unable to register cuDNN factory: Attempting to register factory for plugin cuDNN when one has already been registered\nE0000 00:00:1748730159.973670   11214 cuda_blas.cc:1407] Unable to register cuBLAS factory: Attempting to register factory for plugin cuBLAS when one has already been registered\nW0000 00:00:1748730159.986988   11214 computation_placer.cc:177] computation placer already registered. Please check linkage and avoid linking the same target more than once.\nW0000 00:00:1748730159.987005   11214 computation_placer.cc:177] computation placer already registered. Please check linkage and avoid linking the same target more than once.\nW0000 00:00:1748730159.987008   11214 computation_placer.cc:177] computation placer already registered. Please check linkage and avoid linking the same target more than once.\nW0000 00:00:1748730159.987010   11214 computation_placer.cc:177] computation placer already registered. Please check linkage and avoid linking the same target more than once.\n2025-05-31 22:22:39.991413: I tensorflow/core/platform/cpu_feature_guard.cc:210] This TensorFlow binary is optimized to use available CPU instructions in performance-critical operations.\nTo enable the following instructions: AVX2 AVX512F FMA, in other operations, rebuild TensorFlow with the appropriate compiler flags.\n"
        },
        {
          "output_type": "stream",
          "name": "stdout",
          "text": "Initialized DistilBERT tokenizer and model\nUsing device: cpu\nInitial loss: 0.7103846669197083\n"
        }
      ],
      "execution_count": 5,
      "metadata": {
        "gather": {
          "logged": 1748730162830
        }
      }
    },
    {
      "cell_type": "code",
      "source": [
        "# Placeholder for CTR evaluation using simulated A/B testing\n",
        "import pandas as pd\n",
        "import numpy as np\n",
        "from scipy.stats import ttest_ind\n",
        "\n",
        "# Set seed for reproducibility\n",
        "np.random.seed(42)\n",
        "\n",
        "# Load training data\n",
        "try:\n",
        "    train_data = pd.read_csv(\"train_ad_text.csv\").head(100)\n",
        "    print(\"Loaded train_ad_text.csv for A/B testing\")\n",
        "except Exception as e:\n",
        "    print(f\"Error loading train_ad_text.csv: {e}\")\n",
        "    raise\n",
        "\n",
        "# Simulate baseline CTR (2–5%)\n",
        "baseline_ctr = np.random.uniform(0.02, 0.05, size=len(train_data))\n",
        "\n",
        "# Simulate DistilBERT CTR (3–7%)\n",
        "distilbert_ctr = np.random.uniform(0.03, 0.07, size=len(train_data))\n",
        "\n",
        "# Create DataFrame\n",
        "ab_test_df = pd.DataFrame({\n",
        "    \"ad_text\": train_data[\"ad_text\"],\n",
        "    \"baseline_ctr\": baseline_ctr,\n",
        "    \"distilbert_ctr\": distilbert_ctr\n",
        "})\n",
        "\n",
        "# Calculate mean CTRs\n",
        "mean_baseline_ctr = baseline_ctr.mean()\n",
        "mean_distilbert_ctr = distilbert_ctr.mean()\n",
        "\n",
        "# Perform t-test\n",
        "t_stat, p_value = ttest_ind(baseline_ctr, distilbert_ctr)\n",
        "\n",
        "# Save results\n",
        "ab_test_df.to_csv(\"ab_test_results.csv\", index=False)\n",
        "\n",
        "# Display results\n",
        "print(\"A/B Test Results Summary:\")\n",
        "print(f\"Mean Baseline CTR: {mean_baseline_ctr:.4f}\")\n",
        "print(f\"Mean DistilBERT CTR: {mean_distilbert_ctr:.4f}\")\n",
        "print(f\"T-test p-value: {p_value:.4f}\")\n",
        "print(\"First 5 rows of A/B test results:\\n\", ab_test_df.head())\n",
        "print(\"\\nSaved as ab_test_results.csv\")"
      ],
      "outputs": [
        {
          "output_type": "stream",
          "name": "stdout",
          "text": "Loaded train_ad_text.csv for A/B testing\nA/B Test Results Summary:\nMean Baseline CTR: 0.0341\nMean DistilBERT CTR: 0.0499\nT-test p-value: 0.0000\nFirst 5 rows of A/B test results:\n                      ad_text  baseline_ctr  distilbert_ctr\n0  Discover item 355908 now!      0.031236        0.031257\n1  Discover item 248676 now!      0.048521        0.055456\n2  Discover item 318965 now!      0.041960        0.042574\n3  Discover item 253185 now!      0.037960        0.050343\n4  Discover item 367447 now!      0.024681        0.066303\n\nSaved as ab_test_results.csv\n"
        }
      ],
      "execution_count": 6,
      "metadata": {
        "gather": {
          "logged": 1748730173095
        }
      }
    },
    {
      "cell_type": "code",
      "source": [],
      "outputs": [],
      "execution_count": null,
      "metadata": {}
    }
  ],
  "metadata": {
    "kernelspec": {
      "name": "python38-azureml-pt-tf",
      "language": "python",
      "display_name": "Python 3.10 - Pytorch and Tensorflow"
    },
    "language_info": {
      "name": "python",
      "version": "3.10.16",
      "mimetype": "text/x-python",
      "codemirror_mode": {
        "name": "ipython",
        "version": 3
      },
      "pygments_lexer": "ipython3",
      "nbconvert_exporter": "python",
      "file_extension": ".py"
    },
    "microsoft": {
      "ms_spell_check": {
        "ms_spell_check_language": "en"
      },
      "host": {
        "AzureML": {
          "notebookHasBeenCompleted": true
        }
      }
    },
    "kernel_info": {
      "name": "python38-azureml-pt-tf"
    },
    "nteract": {
      "version": "nteract-front-end@1.0.0"
    }
  },
  "nbformat": 4,
  "nbformat_minor": 2
}